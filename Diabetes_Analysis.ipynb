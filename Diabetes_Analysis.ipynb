{
 "cells": [
  {
   "cell_type": "code",
   "execution_count": 1,
   "id": "e0335c50",
   "metadata": {},
   "outputs": [
    {
     "name": "stderr",
     "output_type": "stream",
     "text": [
      "Intel(R) Extension for Scikit-learn* enabled (https://github.com/intel/scikit-learn-intelex)\n"
     ]
    }
   ],
   "source": [
    "# Turn on scikit-learn optimizations\n",
    "from sklearnex import patch_sklearn\n",
    "patch_sklearn()"
   ]
  },
  {
   "cell_type": "code",
   "execution_count": 2,
   "id": "be8b2d2a",
   "metadata": {},
   "outputs": [],
   "source": [
    "# Initial imports\n",
    "import pandas as pd\n",
    "import numpy as np\n",
    "from sklearn import metrics\n",
    "from sklearn.metrics import balanced_accuracy_score\n",
    "from sklearn.metrics import accuracy_score\n",
    "from sklearn.metrics import confusion_matrix\n",
    "from sklearn.metrics import classification_report\n",
    "from imblearn.metrics import classification_report_imbalanced\n",
    "import matplotlib.pyplot as plt\n",
    "\n",
    "# import hvplot.pandas\n",
    "# from pathlib import Path\n",
    "# import plotly.express as px"
   ]
  },
  {
   "cell_type": "code",
   "execution_count": 3,
   "id": "9e27af6c",
   "metadata": {},
   "outputs": [
    {
     "data": {
      "text/html": [
       "<div>\n",
       "<style scoped>\n",
       "    .dataframe tbody tr th:only-of-type {\n",
       "        vertical-align: middle;\n",
       "    }\n",
       "\n",
       "    .dataframe tbody tr th {\n",
       "        vertical-align: top;\n",
       "    }\n",
       "\n",
       "    .dataframe thead th {\n",
       "        text-align: right;\n",
       "    }\n",
       "</style>\n",
       "<table border=\"1\" class=\"dataframe\">\n",
       "  <thead>\n",
       "    <tr style=\"text-align: right;\">\n",
       "      <th></th>\n",
       "      <th>Diabetes_binary</th>\n",
       "      <th>HighBP</th>\n",
       "      <th>HighChol</th>\n",
       "      <th>CholCheck</th>\n",
       "      <th>BMI</th>\n",
       "      <th>Smoker</th>\n",
       "      <th>Stroke</th>\n",
       "      <th>HeartDiseaseorAttack</th>\n",
       "      <th>PhysActivity</th>\n",
       "      <th>Fruits</th>\n",
       "      <th>...</th>\n",
       "      <th>AnyHealthcare</th>\n",
       "      <th>NoDocbcCost</th>\n",
       "      <th>GenHlth</th>\n",
       "      <th>MentHlth</th>\n",
       "      <th>PhysHlth</th>\n",
       "      <th>DiffWalk</th>\n",
       "      <th>Sex</th>\n",
       "      <th>Age</th>\n",
       "      <th>Education</th>\n",
       "      <th>Income</th>\n",
       "    </tr>\n",
       "  </thead>\n",
       "  <tbody>\n",
       "    <tr>\n",
       "      <th>0</th>\n",
       "      <td>0.0</td>\n",
       "      <td>1.0</td>\n",
       "      <td>1.0</td>\n",
       "      <td>1.0</td>\n",
       "      <td>40.0</td>\n",
       "      <td>1.0</td>\n",
       "      <td>0.0</td>\n",
       "      <td>0.0</td>\n",
       "      <td>0.0</td>\n",
       "      <td>0.0</td>\n",
       "      <td>...</td>\n",
       "      <td>1.0</td>\n",
       "      <td>0.0</td>\n",
       "      <td>5.0</td>\n",
       "      <td>18.0</td>\n",
       "      <td>15.0</td>\n",
       "      <td>1.0</td>\n",
       "      <td>0.0</td>\n",
       "      <td>9.0</td>\n",
       "      <td>4.0</td>\n",
       "      <td>3.0</td>\n",
       "    </tr>\n",
       "    <tr>\n",
       "      <th>1</th>\n",
       "      <td>0.0</td>\n",
       "      <td>0.0</td>\n",
       "      <td>0.0</td>\n",
       "      <td>0.0</td>\n",
       "      <td>25.0</td>\n",
       "      <td>1.0</td>\n",
       "      <td>0.0</td>\n",
       "      <td>0.0</td>\n",
       "      <td>1.0</td>\n",
       "      <td>0.0</td>\n",
       "      <td>...</td>\n",
       "      <td>0.0</td>\n",
       "      <td>1.0</td>\n",
       "      <td>3.0</td>\n",
       "      <td>0.0</td>\n",
       "      <td>0.0</td>\n",
       "      <td>0.0</td>\n",
       "      <td>0.0</td>\n",
       "      <td>7.0</td>\n",
       "      <td>6.0</td>\n",
       "      <td>1.0</td>\n",
       "    </tr>\n",
       "    <tr>\n",
       "      <th>2</th>\n",
       "      <td>0.0</td>\n",
       "      <td>1.0</td>\n",
       "      <td>1.0</td>\n",
       "      <td>1.0</td>\n",
       "      <td>28.0</td>\n",
       "      <td>0.0</td>\n",
       "      <td>0.0</td>\n",
       "      <td>0.0</td>\n",
       "      <td>0.0</td>\n",
       "      <td>1.0</td>\n",
       "      <td>...</td>\n",
       "      <td>1.0</td>\n",
       "      <td>1.0</td>\n",
       "      <td>5.0</td>\n",
       "      <td>30.0</td>\n",
       "      <td>30.0</td>\n",
       "      <td>1.0</td>\n",
       "      <td>0.0</td>\n",
       "      <td>9.0</td>\n",
       "      <td>4.0</td>\n",
       "      <td>8.0</td>\n",
       "    </tr>\n",
       "    <tr>\n",
       "      <th>3</th>\n",
       "      <td>0.0</td>\n",
       "      <td>1.0</td>\n",
       "      <td>0.0</td>\n",
       "      <td>1.0</td>\n",
       "      <td>27.0</td>\n",
       "      <td>0.0</td>\n",
       "      <td>0.0</td>\n",
       "      <td>0.0</td>\n",
       "      <td>1.0</td>\n",
       "      <td>1.0</td>\n",
       "      <td>...</td>\n",
       "      <td>1.0</td>\n",
       "      <td>0.0</td>\n",
       "      <td>2.0</td>\n",
       "      <td>0.0</td>\n",
       "      <td>0.0</td>\n",
       "      <td>0.0</td>\n",
       "      <td>0.0</td>\n",
       "      <td>11.0</td>\n",
       "      <td>3.0</td>\n",
       "      <td>6.0</td>\n",
       "    </tr>\n",
       "    <tr>\n",
       "      <th>4</th>\n",
       "      <td>0.0</td>\n",
       "      <td>1.0</td>\n",
       "      <td>1.0</td>\n",
       "      <td>1.0</td>\n",
       "      <td>24.0</td>\n",
       "      <td>0.0</td>\n",
       "      <td>0.0</td>\n",
       "      <td>0.0</td>\n",
       "      <td>1.0</td>\n",
       "      <td>1.0</td>\n",
       "      <td>...</td>\n",
       "      <td>1.0</td>\n",
       "      <td>0.0</td>\n",
       "      <td>2.0</td>\n",
       "      <td>3.0</td>\n",
       "      <td>0.0</td>\n",
       "      <td>0.0</td>\n",
       "      <td>0.0</td>\n",
       "      <td>11.0</td>\n",
       "      <td>5.0</td>\n",
       "      <td>4.0</td>\n",
       "    </tr>\n",
       "    <tr>\n",
       "      <th>5</th>\n",
       "      <td>0.0</td>\n",
       "      <td>1.0</td>\n",
       "      <td>1.0</td>\n",
       "      <td>1.0</td>\n",
       "      <td>25.0</td>\n",
       "      <td>1.0</td>\n",
       "      <td>0.0</td>\n",
       "      <td>0.0</td>\n",
       "      <td>1.0</td>\n",
       "      <td>1.0</td>\n",
       "      <td>...</td>\n",
       "      <td>1.0</td>\n",
       "      <td>0.0</td>\n",
       "      <td>2.0</td>\n",
       "      <td>0.0</td>\n",
       "      <td>2.0</td>\n",
       "      <td>0.0</td>\n",
       "      <td>1.0</td>\n",
       "      <td>10.0</td>\n",
       "      <td>6.0</td>\n",
       "      <td>8.0</td>\n",
       "    </tr>\n",
       "    <tr>\n",
       "      <th>6</th>\n",
       "      <td>0.0</td>\n",
       "      <td>1.0</td>\n",
       "      <td>0.0</td>\n",
       "      <td>1.0</td>\n",
       "      <td>30.0</td>\n",
       "      <td>1.0</td>\n",
       "      <td>0.0</td>\n",
       "      <td>0.0</td>\n",
       "      <td>0.0</td>\n",
       "      <td>0.0</td>\n",
       "      <td>...</td>\n",
       "      <td>1.0</td>\n",
       "      <td>0.0</td>\n",
       "      <td>3.0</td>\n",
       "      <td>0.0</td>\n",
       "      <td>14.0</td>\n",
       "      <td>0.0</td>\n",
       "      <td>0.0</td>\n",
       "      <td>9.0</td>\n",
       "      <td>6.0</td>\n",
       "      <td>7.0</td>\n",
       "    </tr>\n",
       "    <tr>\n",
       "      <th>7</th>\n",
       "      <td>0.0</td>\n",
       "      <td>1.0</td>\n",
       "      <td>1.0</td>\n",
       "      <td>1.0</td>\n",
       "      <td>25.0</td>\n",
       "      <td>1.0</td>\n",
       "      <td>0.0</td>\n",
       "      <td>0.0</td>\n",
       "      <td>1.0</td>\n",
       "      <td>0.0</td>\n",
       "      <td>...</td>\n",
       "      <td>1.0</td>\n",
       "      <td>0.0</td>\n",
       "      <td>3.0</td>\n",
       "      <td>0.0</td>\n",
       "      <td>0.0</td>\n",
       "      <td>1.0</td>\n",
       "      <td>0.0</td>\n",
       "      <td>11.0</td>\n",
       "      <td>4.0</td>\n",
       "      <td>4.0</td>\n",
       "    </tr>\n",
       "    <tr>\n",
       "      <th>8</th>\n",
       "      <td>1.0</td>\n",
       "      <td>1.0</td>\n",
       "      <td>1.0</td>\n",
       "      <td>1.0</td>\n",
       "      <td>30.0</td>\n",
       "      <td>1.0</td>\n",
       "      <td>0.0</td>\n",
       "      <td>1.0</td>\n",
       "      <td>0.0</td>\n",
       "      <td>1.0</td>\n",
       "      <td>...</td>\n",
       "      <td>1.0</td>\n",
       "      <td>0.0</td>\n",
       "      <td>5.0</td>\n",
       "      <td>30.0</td>\n",
       "      <td>30.0</td>\n",
       "      <td>1.0</td>\n",
       "      <td>0.0</td>\n",
       "      <td>9.0</td>\n",
       "      <td>5.0</td>\n",
       "      <td>1.0</td>\n",
       "    </tr>\n",
       "    <tr>\n",
       "      <th>9</th>\n",
       "      <td>0.0</td>\n",
       "      <td>0.0</td>\n",
       "      <td>0.0</td>\n",
       "      <td>1.0</td>\n",
       "      <td>24.0</td>\n",
       "      <td>0.0</td>\n",
       "      <td>0.0</td>\n",
       "      <td>0.0</td>\n",
       "      <td>0.0</td>\n",
       "      <td>0.0</td>\n",
       "      <td>...</td>\n",
       "      <td>1.0</td>\n",
       "      <td>0.0</td>\n",
       "      <td>2.0</td>\n",
       "      <td>0.0</td>\n",
       "      <td>0.0</td>\n",
       "      <td>0.0</td>\n",
       "      <td>1.0</td>\n",
       "      <td>8.0</td>\n",
       "      <td>4.0</td>\n",
       "      <td>3.0</td>\n",
       "    </tr>\n",
       "  </tbody>\n",
       "</table>\n",
       "<p>10 rows × 22 columns</p>\n",
       "</div>"
      ],
      "text/plain": [
       "   Diabetes_binary  HighBP  HighChol  CholCheck   BMI  Smoker  Stroke  \\\n",
       "0              0.0     1.0       1.0        1.0  40.0     1.0     0.0   \n",
       "1              0.0     0.0       0.0        0.0  25.0     1.0     0.0   \n",
       "2              0.0     1.0       1.0        1.0  28.0     0.0     0.0   \n",
       "3              0.0     1.0       0.0        1.0  27.0     0.0     0.0   \n",
       "4              0.0     1.0       1.0        1.0  24.0     0.0     0.0   \n",
       "5              0.0     1.0       1.0        1.0  25.0     1.0     0.0   \n",
       "6              0.0     1.0       0.0        1.0  30.0     1.0     0.0   \n",
       "7              0.0     1.0       1.0        1.0  25.0     1.0     0.0   \n",
       "8              1.0     1.0       1.0        1.0  30.0     1.0     0.0   \n",
       "9              0.0     0.0       0.0        1.0  24.0     0.0     0.0   \n",
       "\n",
       "   HeartDiseaseorAttack  PhysActivity  Fruits  ...  AnyHealthcare  \\\n",
       "0                   0.0           0.0     0.0  ...            1.0   \n",
       "1                   0.0           1.0     0.0  ...            0.0   \n",
       "2                   0.0           0.0     1.0  ...            1.0   \n",
       "3                   0.0           1.0     1.0  ...            1.0   \n",
       "4                   0.0           1.0     1.0  ...            1.0   \n",
       "5                   0.0           1.0     1.0  ...            1.0   \n",
       "6                   0.0           0.0     0.0  ...            1.0   \n",
       "7                   0.0           1.0     0.0  ...            1.0   \n",
       "8                   1.0           0.0     1.0  ...            1.0   \n",
       "9                   0.0           0.0     0.0  ...            1.0   \n",
       "\n",
       "   NoDocbcCost  GenHlth  MentHlth  PhysHlth  DiffWalk  Sex   Age  Education  \\\n",
       "0          0.0      5.0      18.0      15.0       1.0  0.0   9.0        4.0   \n",
       "1          1.0      3.0       0.0       0.0       0.0  0.0   7.0        6.0   \n",
       "2          1.0      5.0      30.0      30.0       1.0  0.0   9.0        4.0   \n",
       "3          0.0      2.0       0.0       0.0       0.0  0.0  11.0        3.0   \n",
       "4          0.0      2.0       3.0       0.0       0.0  0.0  11.0        5.0   \n",
       "5          0.0      2.0       0.0       2.0       0.0  1.0  10.0        6.0   \n",
       "6          0.0      3.0       0.0      14.0       0.0  0.0   9.0        6.0   \n",
       "7          0.0      3.0       0.0       0.0       1.0  0.0  11.0        4.0   \n",
       "8          0.0      5.0      30.0      30.0       1.0  0.0   9.0        5.0   \n",
       "9          0.0      2.0       0.0       0.0       0.0  1.0   8.0        4.0   \n",
       "\n",
       "   Income  \n",
       "0     3.0  \n",
       "1     1.0  \n",
       "2     8.0  \n",
       "3     6.0  \n",
       "4     4.0  \n",
       "5     8.0  \n",
       "6     7.0  \n",
       "7     4.0  \n",
       "8     1.0  \n",
       "9     3.0  \n",
       "\n",
       "[10 rows x 22 columns]"
      ]
     },
     "execution_count": 3,
     "metadata": {},
     "output_type": "execute_result"
    }
   ],
   "source": [
    "# Load the diabetes_binary_health_indicators_BRFSS2015.csv dataset.\n",
    "url = 'https://diabetesdb.s3.amazonaws.com/diabetes_binary_health_indicators_BRFSS2015.csv'\n",
    "diabetes_df = pd.read_csv(url)\n",
    "diabetes_df.head(10)"
   ]
  },
  {
   "cell_type": "code",
   "execution_count": 4,
   "id": "98ba197d",
   "metadata": {},
   "outputs": [
    {
     "name": "stdout",
     "output_type": "stream",
     "text": [
      "(253680, 22)\n"
     ]
    }
   ],
   "source": [
    "#  Check dataframe shape\n",
    "print(diabetes_df.shape)"
   ]
  },
  {
   "cell_type": "code",
   "execution_count": 5,
   "id": "64fa23dd",
   "metadata": {},
   "outputs": [
    {
     "name": "stdout",
     "output_type": "stream",
     "text": [
      "(229474, 22)\n"
     ]
    }
   ],
   "source": [
    "# Drop the null columns where all values are null\n",
    "cleaned_df = diabetes_df.dropna(axis='columns', how='all')\n",
    "\n",
    "# Drop the null rows\n",
    "cleaned_df.dropna(inplace=True)\n",
    "\n",
    "# Remove dupplicates\n",
    "cleaned_df.drop_duplicates(inplace=True)\n",
    "\n",
    "print(cleaned_df.shape)"
   ]
  },
  {
   "cell_type": "markdown",
   "id": "14734a34",
   "metadata": {},
   "source": [
    "### Determine the feature and target sets"
   ]
  },
  {
   "cell_type": "code",
   "execution_count": 6,
   "id": "068cb7c3",
   "metadata": {
    "scrolled": true
   },
   "outputs": [
    {
     "name": "stdout",
     "output_type": "stream",
     "text": [
      "(229474, 1)\n"
     ]
    },
    {
     "data": {
      "text/html": [
       "<div>\n",
       "<style scoped>\n",
       "    .dataframe tbody tr th:only-of-type {\n",
       "        vertical-align: middle;\n",
       "    }\n",
       "\n",
       "    .dataframe tbody tr th {\n",
       "        vertical-align: top;\n",
       "    }\n",
       "\n",
       "    .dataframe thead th {\n",
       "        text-align: right;\n",
       "    }\n",
       "</style>\n",
       "<table border=\"1\" class=\"dataframe\">\n",
       "  <thead>\n",
       "    <tr style=\"text-align: right;\">\n",
       "      <th></th>\n",
       "      <th>HighBP</th>\n",
       "      <th>HighChol</th>\n",
       "      <th>CholCheck</th>\n",
       "      <th>BMI</th>\n",
       "      <th>Smoker</th>\n",
       "      <th>Stroke</th>\n",
       "      <th>HeartDiseaseorAttack</th>\n",
       "      <th>PhysActivity</th>\n",
       "      <th>Fruits</th>\n",
       "      <th>Veggies</th>\n",
       "      <th>...</th>\n",
       "      <th>AnyHealthcare</th>\n",
       "      <th>NoDocbcCost</th>\n",
       "      <th>GenHlth</th>\n",
       "      <th>MentHlth</th>\n",
       "      <th>PhysHlth</th>\n",
       "      <th>DiffWalk</th>\n",
       "      <th>Sex</th>\n",
       "      <th>Age</th>\n",
       "      <th>Education</th>\n",
       "      <th>Income</th>\n",
       "    </tr>\n",
       "  </thead>\n",
       "  <tbody>\n",
       "    <tr>\n",
       "      <th>0</th>\n",
       "      <td>1.0</td>\n",
       "      <td>1.0</td>\n",
       "      <td>1.0</td>\n",
       "      <td>40.0</td>\n",
       "      <td>1.0</td>\n",
       "      <td>0.0</td>\n",
       "      <td>0.0</td>\n",
       "      <td>0.0</td>\n",
       "      <td>0.0</td>\n",
       "      <td>1.0</td>\n",
       "      <td>...</td>\n",
       "      <td>1.0</td>\n",
       "      <td>0.0</td>\n",
       "      <td>5.0</td>\n",
       "      <td>18.0</td>\n",
       "      <td>15.0</td>\n",
       "      <td>1.0</td>\n",
       "      <td>0.0</td>\n",
       "      <td>9.0</td>\n",
       "      <td>4.0</td>\n",
       "      <td>3.0</td>\n",
       "    </tr>\n",
       "    <tr>\n",
       "      <th>1</th>\n",
       "      <td>0.0</td>\n",
       "      <td>0.0</td>\n",
       "      <td>0.0</td>\n",
       "      <td>25.0</td>\n",
       "      <td>1.0</td>\n",
       "      <td>0.0</td>\n",
       "      <td>0.0</td>\n",
       "      <td>1.0</td>\n",
       "      <td>0.0</td>\n",
       "      <td>0.0</td>\n",
       "      <td>...</td>\n",
       "      <td>0.0</td>\n",
       "      <td>1.0</td>\n",
       "      <td>3.0</td>\n",
       "      <td>0.0</td>\n",
       "      <td>0.0</td>\n",
       "      <td>0.0</td>\n",
       "      <td>0.0</td>\n",
       "      <td>7.0</td>\n",
       "      <td>6.0</td>\n",
       "      <td>1.0</td>\n",
       "    </tr>\n",
       "    <tr>\n",
       "      <th>2</th>\n",
       "      <td>1.0</td>\n",
       "      <td>1.0</td>\n",
       "      <td>1.0</td>\n",
       "      <td>28.0</td>\n",
       "      <td>0.0</td>\n",
       "      <td>0.0</td>\n",
       "      <td>0.0</td>\n",
       "      <td>0.0</td>\n",
       "      <td>1.0</td>\n",
       "      <td>0.0</td>\n",
       "      <td>...</td>\n",
       "      <td>1.0</td>\n",
       "      <td>1.0</td>\n",
       "      <td>5.0</td>\n",
       "      <td>30.0</td>\n",
       "      <td>30.0</td>\n",
       "      <td>1.0</td>\n",
       "      <td>0.0</td>\n",
       "      <td>9.0</td>\n",
       "      <td>4.0</td>\n",
       "      <td>8.0</td>\n",
       "    </tr>\n",
       "    <tr>\n",
       "      <th>3</th>\n",
       "      <td>1.0</td>\n",
       "      <td>0.0</td>\n",
       "      <td>1.0</td>\n",
       "      <td>27.0</td>\n",
       "      <td>0.0</td>\n",
       "      <td>0.0</td>\n",
       "      <td>0.0</td>\n",
       "      <td>1.0</td>\n",
       "      <td>1.0</td>\n",
       "      <td>1.0</td>\n",
       "      <td>...</td>\n",
       "      <td>1.0</td>\n",
       "      <td>0.0</td>\n",
       "      <td>2.0</td>\n",
       "      <td>0.0</td>\n",
       "      <td>0.0</td>\n",
       "      <td>0.0</td>\n",
       "      <td>0.0</td>\n",
       "      <td>11.0</td>\n",
       "      <td>3.0</td>\n",
       "      <td>6.0</td>\n",
       "    </tr>\n",
       "    <tr>\n",
       "      <th>4</th>\n",
       "      <td>1.0</td>\n",
       "      <td>1.0</td>\n",
       "      <td>1.0</td>\n",
       "      <td>24.0</td>\n",
       "      <td>0.0</td>\n",
       "      <td>0.0</td>\n",
       "      <td>0.0</td>\n",
       "      <td>1.0</td>\n",
       "      <td>1.0</td>\n",
       "      <td>1.0</td>\n",
       "      <td>...</td>\n",
       "      <td>1.0</td>\n",
       "      <td>0.0</td>\n",
       "      <td>2.0</td>\n",
       "      <td>3.0</td>\n",
       "      <td>0.0</td>\n",
       "      <td>0.0</td>\n",
       "      <td>0.0</td>\n",
       "      <td>11.0</td>\n",
       "      <td>5.0</td>\n",
       "      <td>4.0</td>\n",
       "    </tr>\n",
       "    <tr>\n",
       "      <th>5</th>\n",
       "      <td>1.0</td>\n",
       "      <td>1.0</td>\n",
       "      <td>1.0</td>\n",
       "      <td>25.0</td>\n",
       "      <td>1.0</td>\n",
       "      <td>0.0</td>\n",
       "      <td>0.0</td>\n",
       "      <td>1.0</td>\n",
       "      <td>1.0</td>\n",
       "      <td>1.0</td>\n",
       "      <td>...</td>\n",
       "      <td>1.0</td>\n",
       "      <td>0.0</td>\n",
       "      <td>2.0</td>\n",
       "      <td>0.0</td>\n",
       "      <td>2.0</td>\n",
       "      <td>0.0</td>\n",
       "      <td>1.0</td>\n",
       "      <td>10.0</td>\n",
       "      <td>6.0</td>\n",
       "      <td>8.0</td>\n",
       "    </tr>\n",
       "    <tr>\n",
       "      <th>6</th>\n",
       "      <td>1.0</td>\n",
       "      <td>0.0</td>\n",
       "      <td>1.0</td>\n",
       "      <td>30.0</td>\n",
       "      <td>1.0</td>\n",
       "      <td>0.0</td>\n",
       "      <td>0.0</td>\n",
       "      <td>0.0</td>\n",
       "      <td>0.0</td>\n",
       "      <td>0.0</td>\n",
       "      <td>...</td>\n",
       "      <td>1.0</td>\n",
       "      <td>0.0</td>\n",
       "      <td>3.0</td>\n",
       "      <td>0.0</td>\n",
       "      <td>14.0</td>\n",
       "      <td>0.0</td>\n",
       "      <td>0.0</td>\n",
       "      <td>9.0</td>\n",
       "      <td>6.0</td>\n",
       "      <td>7.0</td>\n",
       "    </tr>\n",
       "    <tr>\n",
       "      <th>7</th>\n",
       "      <td>1.0</td>\n",
       "      <td>1.0</td>\n",
       "      <td>1.0</td>\n",
       "      <td>25.0</td>\n",
       "      <td>1.0</td>\n",
       "      <td>0.0</td>\n",
       "      <td>0.0</td>\n",
       "      <td>1.0</td>\n",
       "      <td>0.0</td>\n",
       "      <td>1.0</td>\n",
       "      <td>...</td>\n",
       "      <td>1.0</td>\n",
       "      <td>0.0</td>\n",
       "      <td>3.0</td>\n",
       "      <td>0.0</td>\n",
       "      <td>0.0</td>\n",
       "      <td>1.0</td>\n",
       "      <td>0.0</td>\n",
       "      <td>11.0</td>\n",
       "      <td>4.0</td>\n",
       "      <td>4.0</td>\n",
       "    </tr>\n",
       "    <tr>\n",
       "      <th>8</th>\n",
       "      <td>1.0</td>\n",
       "      <td>1.0</td>\n",
       "      <td>1.0</td>\n",
       "      <td>30.0</td>\n",
       "      <td>1.0</td>\n",
       "      <td>0.0</td>\n",
       "      <td>1.0</td>\n",
       "      <td>0.0</td>\n",
       "      <td>1.0</td>\n",
       "      <td>1.0</td>\n",
       "      <td>...</td>\n",
       "      <td>1.0</td>\n",
       "      <td>0.0</td>\n",
       "      <td>5.0</td>\n",
       "      <td>30.0</td>\n",
       "      <td>30.0</td>\n",
       "      <td>1.0</td>\n",
       "      <td>0.0</td>\n",
       "      <td>9.0</td>\n",
       "      <td>5.0</td>\n",
       "      <td>1.0</td>\n",
       "    </tr>\n",
       "    <tr>\n",
       "      <th>9</th>\n",
       "      <td>0.0</td>\n",
       "      <td>0.0</td>\n",
       "      <td>1.0</td>\n",
       "      <td>24.0</td>\n",
       "      <td>0.0</td>\n",
       "      <td>0.0</td>\n",
       "      <td>0.0</td>\n",
       "      <td>0.0</td>\n",
       "      <td>0.0</td>\n",
       "      <td>1.0</td>\n",
       "      <td>...</td>\n",
       "      <td>1.0</td>\n",
       "      <td>0.0</td>\n",
       "      <td>2.0</td>\n",
       "      <td>0.0</td>\n",
       "      <td>0.0</td>\n",
       "      <td>0.0</td>\n",
       "      <td>1.0</td>\n",
       "      <td>8.0</td>\n",
       "      <td>4.0</td>\n",
       "      <td>3.0</td>\n",
       "    </tr>\n",
       "    <tr>\n",
       "      <th>10</th>\n",
       "      <td>0.0</td>\n",
       "      <td>0.0</td>\n",
       "      <td>1.0</td>\n",
       "      <td>25.0</td>\n",
       "      <td>1.0</td>\n",
       "      <td>0.0</td>\n",
       "      <td>0.0</td>\n",
       "      <td>1.0</td>\n",
       "      <td>1.0</td>\n",
       "      <td>1.0</td>\n",
       "      <td>...</td>\n",
       "      <td>1.0</td>\n",
       "      <td>0.0</td>\n",
       "      <td>3.0</td>\n",
       "      <td>0.0</td>\n",
       "      <td>0.0</td>\n",
       "      <td>0.0</td>\n",
       "      <td>1.0</td>\n",
       "      <td>13.0</td>\n",
       "      <td>6.0</td>\n",
       "      <td>8.0</td>\n",
       "    </tr>\n",
       "    <tr>\n",
       "      <th>11</th>\n",
       "      <td>1.0</td>\n",
       "      <td>1.0</td>\n",
       "      <td>1.0</td>\n",
       "      <td>34.0</td>\n",
       "      <td>1.0</td>\n",
       "      <td>0.0</td>\n",
       "      <td>0.0</td>\n",
       "      <td>0.0</td>\n",
       "      <td>1.0</td>\n",
       "      <td>1.0</td>\n",
       "      <td>...</td>\n",
       "      <td>1.0</td>\n",
       "      <td>0.0</td>\n",
       "      <td>3.0</td>\n",
       "      <td>0.0</td>\n",
       "      <td>30.0</td>\n",
       "      <td>1.0</td>\n",
       "      <td>0.0</td>\n",
       "      <td>10.0</td>\n",
       "      <td>5.0</td>\n",
       "      <td>1.0</td>\n",
       "    </tr>\n",
       "    <tr>\n",
       "      <th>12</th>\n",
       "      <td>0.0</td>\n",
       "      <td>0.0</td>\n",
       "      <td>1.0</td>\n",
       "      <td>26.0</td>\n",
       "      <td>1.0</td>\n",
       "      <td>0.0</td>\n",
       "      <td>0.0</td>\n",
       "      <td>0.0</td>\n",
       "      <td>0.0</td>\n",
       "      <td>1.0</td>\n",
       "      <td>...</td>\n",
       "      <td>1.0</td>\n",
       "      <td>0.0</td>\n",
       "      <td>3.0</td>\n",
       "      <td>0.0</td>\n",
       "      <td>15.0</td>\n",
       "      <td>0.0</td>\n",
       "      <td>0.0</td>\n",
       "      <td>7.0</td>\n",
       "      <td>5.0</td>\n",
       "      <td>7.0</td>\n",
       "    </tr>\n",
       "    <tr>\n",
       "      <th>13</th>\n",
       "      <td>1.0</td>\n",
       "      <td>1.0</td>\n",
       "      <td>1.0</td>\n",
       "      <td>28.0</td>\n",
       "      <td>0.0</td>\n",
       "      <td>0.0</td>\n",
       "      <td>0.0</td>\n",
       "      <td>0.0</td>\n",
       "      <td>0.0</td>\n",
       "      <td>1.0</td>\n",
       "      <td>...</td>\n",
       "      <td>1.0</td>\n",
       "      <td>0.0</td>\n",
       "      <td>4.0</td>\n",
       "      <td>0.0</td>\n",
       "      <td>0.0</td>\n",
       "      <td>1.0</td>\n",
       "      <td>0.0</td>\n",
       "      <td>11.0</td>\n",
       "      <td>4.0</td>\n",
       "      <td>6.0</td>\n",
       "    </tr>\n",
       "    <tr>\n",
       "      <th>14</th>\n",
       "      <td>0.0</td>\n",
       "      <td>1.0</td>\n",
       "      <td>1.0</td>\n",
       "      <td>33.0</td>\n",
       "      <td>1.0</td>\n",
       "      <td>1.0</td>\n",
       "      <td>0.0</td>\n",
       "      <td>1.0</td>\n",
       "      <td>0.0</td>\n",
       "      <td>1.0</td>\n",
       "      <td>...</td>\n",
       "      <td>1.0</td>\n",
       "      <td>1.0</td>\n",
       "      <td>4.0</td>\n",
       "      <td>30.0</td>\n",
       "      <td>28.0</td>\n",
       "      <td>0.0</td>\n",
       "      <td>0.0</td>\n",
       "      <td>4.0</td>\n",
       "      <td>6.0</td>\n",
       "      <td>2.0</td>\n",
       "    </tr>\n",
       "    <tr>\n",
       "      <th>15</th>\n",
       "      <td>1.0</td>\n",
       "      <td>0.0</td>\n",
       "      <td>1.0</td>\n",
       "      <td>33.0</td>\n",
       "      <td>0.0</td>\n",
       "      <td>0.0</td>\n",
       "      <td>0.0</td>\n",
       "      <td>1.0</td>\n",
       "      <td>0.0</td>\n",
       "      <td>0.0</td>\n",
       "      <td>...</td>\n",
       "      <td>1.0</td>\n",
       "      <td>0.0</td>\n",
       "      <td>2.0</td>\n",
       "      <td>5.0</td>\n",
       "      <td>0.0</td>\n",
       "      <td>0.0</td>\n",
       "      <td>0.0</td>\n",
       "      <td>6.0</td>\n",
       "      <td>6.0</td>\n",
       "      <td>8.0</td>\n",
       "    </tr>\n",
       "    <tr>\n",
       "      <th>16</th>\n",
       "      <td>1.0</td>\n",
       "      <td>1.0</td>\n",
       "      <td>1.0</td>\n",
       "      <td>21.0</td>\n",
       "      <td>0.0</td>\n",
       "      <td>0.0</td>\n",
       "      <td>0.0</td>\n",
       "      <td>1.0</td>\n",
       "      <td>1.0</td>\n",
       "      <td>1.0</td>\n",
       "      <td>...</td>\n",
       "      <td>1.0</td>\n",
       "      <td>0.0</td>\n",
       "      <td>3.0</td>\n",
       "      <td>0.0</td>\n",
       "      <td>0.0</td>\n",
       "      <td>0.0</td>\n",
       "      <td>0.0</td>\n",
       "      <td>10.0</td>\n",
       "      <td>4.0</td>\n",
       "      <td>3.0</td>\n",
       "    </tr>\n",
       "    <tr>\n",
       "      <th>17</th>\n",
       "      <td>0.0</td>\n",
       "      <td>0.0</td>\n",
       "      <td>1.0</td>\n",
       "      <td>23.0</td>\n",
       "      <td>1.0</td>\n",
       "      <td>0.0</td>\n",
       "      <td>0.0</td>\n",
       "      <td>1.0</td>\n",
       "      <td>0.0</td>\n",
       "      <td>0.0</td>\n",
       "      <td>...</td>\n",
       "      <td>1.0</td>\n",
       "      <td>0.0</td>\n",
       "      <td>2.0</td>\n",
       "      <td>0.0</td>\n",
       "      <td>0.0</td>\n",
       "      <td>0.0</td>\n",
       "      <td>1.0</td>\n",
       "      <td>7.0</td>\n",
       "      <td>5.0</td>\n",
       "      <td>6.0</td>\n",
       "    </tr>\n",
       "    <tr>\n",
       "      <th>18</th>\n",
       "      <td>0.0</td>\n",
       "      <td>0.0</td>\n",
       "      <td>0.0</td>\n",
       "      <td>23.0</td>\n",
       "      <td>0.0</td>\n",
       "      <td>0.0</td>\n",
       "      <td>0.0</td>\n",
       "      <td>0.0</td>\n",
       "      <td>0.0</td>\n",
       "      <td>1.0</td>\n",
       "      <td>...</td>\n",
       "      <td>1.0</td>\n",
       "      <td>0.0</td>\n",
       "      <td>2.0</td>\n",
       "      <td>15.0</td>\n",
       "      <td>0.0</td>\n",
       "      <td>0.0</td>\n",
       "      <td>0.0</td>\n",
       "      <td>2.0</td>\n",
       "      <td>6.0</td>\n",
       "      <td>7.0</td>\n",
       "    </tr>\n",
       "    <tr>\n",
       "      <th>19</th>\n",
       "      <td>0.0</td>\n",
       "      <td>1.0</td>\n",
       "      <td>1.0</td>\n",
       "      <td>28.0</td>\n",
       "      <td>0.0</td>\n",
       "      <td>0.0</td>\n",
       "      <td>0.0</td>\n",
       "      <td>0.0</td>\n",
       "      <td>0.0</td>\n",
       "      <td>0.0</td>\n",
       "      <td>...</td>\n",
       "      <td>1.0</td>\n",
       "      <td>0.0</td>\n",
       "      <td>2.0</td>\n",
       "      <td>10.0</td>\n",
       "      <td>0.0</td>\n",
       "      <td>0.0</td>\n",
       "      <td>1.0</td>\n",
       "      <td>4.0</td>\n",
       "      <td>6.0</td>\n",
       "      <td>8.0</td>\n",
       "    </tr>\n",
       "  </tbody>\n",
       "</table>\n",
       "<p>20 rows × 21 columns</p>\n",
       "</div>"
      ],
      "text/plain": [
       "    HighBP  HighChol  CholCheck   BMI  Smoker  Stroke  HeartDiseaseorAttack  \\\n",
       "0      1.0       1.0        1.0  40.0     1.0     0.0                   0.0   \n",
       "1      0.0       0.0        0.0  25.0     1.0     0.0                   0.0   \n",
       "2      1.0       1.0        1.0  28.0     0.0     0.0                   0.0   \n",
       "3      1.0       0.0        1.0  27.0     0.0     0.0                   0.0   \n",
       "4      1.0       1.0        1.0  24.0     0.0     0.0                   0.0   \n",
       "5      1.0       1.0        1.0  25.0     1.0     0.0                   0.0   \n",
       "6      1.0       0.0        1.0  30.0     1.0     0.0                   0.0   \n",
       "7      1.0       1.0        1.0  25.0     1.0     0.0                   0.0   \n",
       "8      1.0       1.0        1.0  30.0     1.0     0.0                   1.0   \n",
       "9      0.0       0.0        1.0  24.0     0.0     0.0                   0.0   \n",
       "10     0.0       0.0        1.0  25.0     1.0     0.0                   0.0   \n",
       "11     1.0       1.0        1.0  34.0     1.0     0.0                   0.0   \n",
       "12     0.0       0.0        1.0  26.0     1.0     0.0                   0.0   \n",
       "13     1.0       1.0        1.0  28.0     0.0     0.0                   0.0   \n",
       "14     0.0       1.0        1.0  33.0     1.0     1.0                   0.0   \n",
       "15     1.0       0.0        1.0  33.0     0.0     0.0                   0.0   \n",
       "16     1.0       1.0        1.0  21.0     0.0     0.0                   0.0   \n",
       "17     0.0       0.0        1.0  23.0     1.0     0.0                   0.0   \n",
       "18     0.0       0.0        0.0  23.0     0.0     0.0                   0.0   \n",
       "19     0.0       1.0        1.0  28.0     0.0     0.0                   0.0   \n",
       "\n",
       "    PhysActivity  Fruits  Veggies  ...  AnyHealthcare  NoDocbcCost  GenHlth  \\\n",
       "0            0.0     0.0      1.0  ...            1.0          0.0      5.0   \n",
       "1            1.0     0.0      0.0  ...            0.0          1.0      3.0   \n",
       "2            0.0     1.0      0.0  ...            1.0          1.0      5.0   \n",
       "3            1.0     1.0      1.0  ...            1.0          0.0      2.0   \n",
       "4            1.0     1.0      1.0  ...            1.0          0.0      2.0   \n",
       "5            1.0     1.0      1.0  ...            1.0          0.0      2.0   \n",
       "6            0.0     0.0      0.0  ...            1.0          0.0      3.0   \n",
       "7            1.0     0.0      1.0  ...            1.0          0.0      3.0   \n",
       "8            0.0     1.0      1.0  ...            1.0          0.0      5.0   \n",
       "9            0.0     0.0      1.0  ...            1.0          0.0      2.0   \n",
       "10           1.0     1.0      1.0  ...            1.0          0.0      3.0   \n",
       "11           0.0     1.0      1.0  ...            1.0          0.0      3.0   \n",
       "12           0.0     0.0      1.0  ...            1.0          0.0      3.0   \n",
       "13           0.0     0.0      1.0  ...            1.0          0.0      4.0   \n",
       "14           1.0     0.0      1.0  ...            1.0          1.0      4.0   \n",
       "15           1.0     0.0      0.0  ...            1.0          0.0      2.0   \n",
       "16           1.0     1.0      1.0  ...            1.0          0.0      3.0   \n",
       "17           1.0     0.0      0.0  ...            1.0          0.0      2.0   \n",
       "18           0.0     0.0      1.0  ...            1.0          0.0      2.0   \n",
       "19           0.0     0.0      0.0  ...            1.0          0.0      2.0   \n",
       "\n",
       "    MentHlth  PhysHlth  DiffWalk  Sex   Age  Education  Income  \n",
       "0       18.0      15.0       1.0  0.0   9.0        4.0     3.0  \n",
       "1        0.0       0.0       0.0  0.0   7.0        6.0     1.0  \n",
       "2       30.0      30.0       1.0  0.0   9.0        4.0     8.0  \n",
       "3        0.0       0.0       0.0  0.0  11.0        3.0     6.0  \n",
       "4        3.0       0.0       0.0  0.0  11.0        5.0     4.0  \n",
       "5        0.0       2.0       0.0  1.0  10.0        6.0     8.0  \n",
       "6        0.0      14.0       0.0  0.0   9.0        6.0     7.0  \n",
       "7        0.0       0.0       1.0  0.0  11.0        4.0     4.0  \n",
       "8       30.0      30.0       1.0  0.0   9.0        5.0     1.0  \n",
       "9        0.0       0.0       0.0  1.0   8.0        4.0     3.0  \n",
       "10       0.0       0.0       0.0  1.0  13.0        6.0     8.0  \n",
       "11       0.0      30.0       1.0  0.0  10.0        5.0     1.0  \n",
       "12       0.0      15.0       0.0  0.0   7.0        5.0     7.0  \n",
       "13       0.0       0.0       1.0  0.0  11.0        4.0     6.0  \n",
       "14      30.0      28.0       0.0  0.0   4.0        6.0     2.0  \n",
       "15       5.0       0.0       0.0  0.0   6.0        6.0     8.0  \n",
       "16       0.0       0.0       0.0  0.0  10.0        4.0     3.0  \n",
       "17       0.0       0.0       0.0  1.0   7.0        5.0     6.0  \n",
       "18      15.0       0.0       0.0  0.0   2.0        6.0     7.0  \n",
       "19      10.0       0.0       0.0  1.0   4.0        6.0     8.0  \n",
       "\n",
       "[20 rows x 21 columns]"
      ]
     },
     "execution_count": 6,
     "metadata": {},
     "output_type": "execute_result"
    }
   ],
   "source": [
    "# Create our targets\n",
    "y = pd.DataFrame(cleaned_df['Diabetes_binary'])\n",
    "print(y.shape)\n",
    "\n",
    "# Create our features\n",
    "X = cleaned_df.copy().drop(columns = 'Diabetes_binary')\n",
    "X.head(20)"
   ]
  },
  {
   "cell_type": "code",
   "execution_count": 7,
   "id": "65564e83",
   "metadata": {},
   "outputs": [
    {
     "data": {
      "text/html": [
       "<div>\n",
       "<style scoped>\n",
       "    .dataframe tbody tr th:only-of-type {\n",
       "        vertical-align: middle;\n",
       "    }\n",
       "\n",
       "    .dataframe tbody tr th {\n",
       "        vertical-align: top;\n",
       "    }\n",
       "\n",
       "    .dataframe thead th {\n",
       "        text-align: right;\n",
       "    }\n",
       "</style>\n",
       "<table border=\"1\" class=\"dataframe\">\n",
       "  <thead>\n",
       "    <tr style=\"text-align: right;\">\n",
       "      <th></th>\n",
       "      <th>HighBP</th>\n",
       "      <th>HighChol</th>\n",
       "      <th>CholCheck</th>\n",
       "      <th>BMI</th>\n",
       "      <th>Smoker</th>\n",
       "      <th>Stroke</th>\n",
       "      <th>HeartDiseaseorAttack</th>\n",
       "      <th>PhysActivity</th>\n",
       "      <th>Fruits</th>\n",
       "      <th>Veggies</th>\n",
       "      <th>...</th>\n",
       "      <th>AnyHealthcare</th>\n",
       "      <th>NoDocbcCost</th>\n",
       "      <th>GenHlth</th>\n",
       "      <th>MentHlth</th>\n",
       "      <th>PhysHlth</th>\n",
       "      <th>DiffWalk</th>\n",
       "      <th>Sex</th>\n",
       "      <th>Age</th>\n",
       "      <th>Education</th>\n",
       "      <th>Income</th>\n",
       "    </tr>\n",
       "  </thead>\n",
       "  <tbody>\n",
       "    <tr>\n",
       "      <th>count</th>\n",
       "      <td>229474.000000</td>\n",
       "      <td>229474.000000</td>\n",
       "      <td>229474.000000</td>\n",
       "      <td>229474.000000</td>\n",
       "      <td>229474.00000</td>\n",
       "      <td>229474.000000</td>\n",
       "      <td>229474.000000</td>\n",
       "      <td>229474.000000</td>\n",
       "      <td>229474.000000</td>\n",
       "      <td>229474.000000</td>\n",
       "      <td>...</td>\n",
       "      <td>229474.000000</td>\n",
       "      <td>229474.000000</td>\n",
       "      <td>229474.000000</td>\n",
       "      <td>229474.000000</td>\n",
       "      <td>229474.000000</td>\n",
       "      <td>229474.000000</td>\n",
       "      <td>229474.000000</td>\n",
       "      <td>229474.000000</td>\n",
       "      <td>229474.000000</td>\n",
       "      <td>229474.000000</td>\n",
       "    </tr>\n",
       "    <tr>\n",
       "      <th>mean</th>\n",
       "      <td>0.454343</td>\n",
       "      <td>0.441640</td>\n",
       "      <td>0.959481</td>\n",
       "      <td>28.687507</td>\n",
       "      <td>0.46580</td>\n",
       "      <td>0.044816</td>\n",
       "      <td>0.103336</td>\n",
       "      <td>0.733042</td>\n",
       "      <td>0.612675</td>\n",
       "      <td>0.794587</td>\n",
       "      <td>...</td>\n",
       "      <td>0.946011</td>\n",
       "      <td>0.092921</td>\n",
       "      <td>2.601820</td>\n",
       "      <td>3.509866</td>\n",
       "      <td>4.681219</td>\n",
       "      <td>0.185751</td>\n",
       "      <td>0.439087</td>\n",
       "      <td>8.085068</td>\n",
       "      <td>4.979741</td>\n",
       "      <td>5.888615</td>\n",
       "    </tr>\n",
       "    <tr>\n",
       "      <th>std</th>\n",
       "      <td>0.497912</td>\n",
       "      <td>0.496584</td>\n",
       "      <td>0.197173</td>\n",
       "      <td>6.789204</td>\n",
       "      <td>0.49883</td>\n",
       "      <td>0.206899</td>\n",
       "      <td>0.304398</td>\n",
       "      <td>0.442371</td>\n",
       "      <td>0.487140</td>\n",
       "      <td>0.404004</td>\n",
       "      <td>...</td>\n",
       "      <td>0.225996</td>\n",
       "      <td>0.290323</td>\n",
       "      <td>1.064962</td>\n",
       "      <td>7.717643</td>\n",
       "      <td>9.050877</td>\n",
       "      <td>0.388906</td>\n",
       "      <td>0.496277</td>\n",
       "      <td>3.094451</td>\n",
       "      <td>0.992989</td>\n",
       "      <td>2.092888</td>\n",
       "    </tr>\n",
       "    <tr>\n",
       "      <th>min</th>\n",
       "      <td>0.000000</td>\n",
       "      <td>0.000000</td>\n",
       "      <td>0.000000</td>\n",
       "      <td>12.000000</td>\n",
       "      <td>0.00000</td>\n",
       "      <td>0.000000</td>\n",
       "      <td>0.000000</td>\n",
       "      <td>0.000000</td>\n",
       "      <td>0.000000</td>\n",
       "      <td>0.000000</td>\n",
       "      <td>...</td>\n",
       "      <td>0.000000</td>\n",
       "      <td>0.000000</td>\n",
       "      <td>1.000000</td>\n",
       "      <td>0.000000</td>\n",
       "      <td>0.000000</td>\n",
       "      <td>0.000000</td>\n",
       "      <td>0.000000</td>\n",
       "      <td>1.000000</td>\n",
       "      <td>1.000000</td>\n",
       "      <td>1.000000</td>\n",
       "    </tr>\n",
       "    <tr>\n",
       "      <th>25%</th>\n",
       "      <td>0.000000</td>\n",
       "      <td>0.000000</td>\n",
       "      <td>1.000000</td>\n",
       "      <td>24.000000</td>\n",
       "      <td>0.00000</td>\n",
       "      <td>0.000000</td>\n",
       "      <td>0.000000</td>\n",
       "      <td>0.000000</td>\n",
       "      <td>0.000000</td>\n",
       "      <td>1.000000</td>\n",
       "      <td>...</td>\n",
       "      <td>1.000000</td>\n",
       "      <td>0.000000</td>\n",
       "      <td>2.000000</td>\n",
       "      <td>0.000000</td>\n",
       "      <td>0.000000</td>\n",
       "      <td>0.000000</td>\n",
       "      <td>0.000000</td>\n",
       "      <td>6.000000</td>\n",
       "      <td>4.000000</td>\n",
       "      <td>4.000000</td>\n",
       "    </tr>\n",
       "    <tr>\n",
       "      <th>50%</th>\n",
       "      <td>0.000000</td>\n",
       "      <td>0.000000</td>\n",
       "      <td>1.000000</td>\n",
       "      <td>27.000000</td>\n",
       "      <td>0.00000</td>\n",
       "      <td>0.000000</td>\n",
       "      <td>0.000000</td>\n",
       "      <td>1.000000</td>\n",
       "      <td>1.000000</td>\n",
       "      <td>1.000000</td>\n",
       "      <td>...</td>\n",
       "      <td>1.000000</td>\n",
       "      <td>0.000000</td>\n",
       "      <td>3.000000</td>\n",
       "      <td>0.000000</td>\n",
       "      <td>0.000000</td>\n",
       "      <td>0.000000</td>\n",
       "      <td>0.000000</td>\n",
       "      <td>8.000000</td>\n",
       "      <td>5.000000</td>\n",
       "      <td>6.000000</td>\n",
       "    </tr>\n",
       "    <tr>\n",
       "      <th>75%</th>\n",
       "      <td>1.000000</td>\n",
       "      <td>1.000000</td>\n",
       "      <td>1.000000</td>\n",
       "      <td>32.000000</td>\n",
       "      <td>1.00000</td>\n",
       "      <td>0.000000</td>\n",
       "      <td>0.000000</td>\n",
       "      <td>1.000000</td>\n",
       "      <td>1.000000</td>\n",
       "      <td>1.000000</td>\n",
       "      <td>...</td>\n",
       "      <td>1.000000</td>\n",
       "      <td>0.000000</td>\n",
       "      <td>3.000000</td>\n",
       "      <td>2.000000</td>\n",
       "      <td>4.000000</td>\n",
       "      <td>0.000000</td>\n",
       "      <td>1.000000</td>\n",
       "      <td>10.000000</td>\n",
       "      <td>6.000000</td>\n",
       "      <td>8.000000</td>\n",
       "    </tr>\n",
       "    <tr>\n",
       "      <th>max</th>\n",
       "      <td>1.000000</td>\n",
       "      <td>1.000000</td>\n",
       "      <td>1.000000</td>\n",
       "      <td>98.000000</td>\n",
       "      <td>1.00000</td>\n",
       "      <td>1.000000</td>\n",
       "      <td>1.000000</td>\n",
       "      <td>1.000000</td>\n",
       "      <td>1.000000</td>\n",
       "      <td>1.000000</td>\n",
       "      <td>...</td>\n",
       "      <td>1.000000</td>\n",
       "      <td>1.000000</td>\n",
       "      <td>5.000000</td>\n",
       "      <td>30.000000</td>\n",
       "      <td>30.000000</td>\n",
       "      <td>1.000000</td>\n",
       "      <td>1.000000</td>\n",
       "      <td>13.000000</td>\n",
       "      <td>6.000000</td>\n",
       "      <td>8.000000</td>\n",
       "    </tr>\n",
       "  </tbody>\n",
       "</table>\n",
       "<p>8 rows × 21 columns</p>\n",
       "</div>"
      ],
      "text/plain": [
       "              HighBP       HighChol      CholCheck            BMI  \\\n",
       "count  229474.000000  229474.000000  229474.000000  229474.000000   \n",
       "mean        0.454343       0.441640       0.959481      28.687507   \n",
       "std         0.497912       0.496584       0.197173       6.789204   \n",
       "min         0.000000       0.000000       0.000000      12.000000   \n",
       "25%         0.000000       0.000000       1.000000      24.000000   \n",
       "50%         0.000000       0.000000       1.000000      27.000000   \n",
       "75%         1.000000       1.000000       1.000000      32.000000   \n",
       "max         1.000000       1.000000       1.000000      98.000000   \n",
       "\n",
       "             Smoker         Stroke  HeartDiseaseorAttack   PhysActivity  \\\n",
       "count  229474.00000  229474.000000         229474.000000  229474.000000   \n",
       "mean        0.46580       0.044816              0.103336       0.733042   \n",
       "std         0.49883       0.206899              0.304398       0.442371   \n",
       "min         0.00000       0.000000              0.000000       0.000000   \n",
       "25%         0.00000       0.000000              0.000000       0.000000   \n",
       "50%         0.00000       0.000000              0.000000       1.000000   \n",
       "75%         1.00000       0.000000              0.000000       1.000000   \n",
       "max         1.00000       1.000000              1.000000       1.000000   \n",
       "\n",
       "              Fruits        Veggies  ...  AnyHealthcare    NoDocbcCost  \\\n",
       "count  229474.000000  229474.000000  ...  229474.000000  229474.000000   \n",
       "mean        0.612675       0.794587  ...       0.946011       0.092921   \n",
       "std         0.487140       0.404004  ...       0.225996       0.290323   \n",
       "min         0.000000       0.000000  ...       0.000000       0.000000   \n",
       "25%         0.000000       1.000000  ...       1.000000       0.000000   \n",
       "50%         1.000000       1.000000  ...       1.000000       0.000000   \n",
       "75%         1.000000       1.000000  ...       1.000000       0.000000   \n",
       "max         1.000000       1.000000  ...       1.000000       1.000000   \n",
       "\n",
       "             GenHlth       MentHlth       PhysHlth       DiffWalk  \\\n",
       "count  229474.000000  229474.000000  229474.000000  229474.000000   \n",
       "mean        2.601820       3.509866       4.681219       0.185751   \n",
       "std         1.064962       7.717643       9.050877       0.388906   \n",
       "min         1.000000       0.000000       0.000000       0.000000   \n",
       "25%         2.000000       0.000000       0.000000       0.000000   \n",
       "50%         3.000000       0.000000       0.000000       0.000000   \n",
       "75%         3.000000       2.000000       4.000000       0.000000   \n",
       "max         5.000000      30.000000      30.000000       1.000000   \n",
       "\n",
       "                 Sex            Age      Education         Income  \n",
       "count  229474.000000  229474.000000  229474.000000  229474.000000  \n",
       "mean        0.439087       8.085068       4.979741       5.888615  \n",
       "std         0.496277       3.094451       0.992989       2.092888  \n",
       "min         0.000000       1.000000       1.000000       1.000000  \n",
       "25%         0.000000       6.000000       4.000000       4.000000  \n",
       "50%         0.000000       8.000000       5.000000       6.000000  \n",
       "75%         1.000000      10.000000       6.000000       8.000000  \n",
       "max         1.000000      13.000000       6.000000       8.000000  \n",
       "\n",
       "[8 rows x 21 columns]"
      ]
     },
     "execution_count": 7,
     "metadata": {},
     "output_type": "execute_result"
    }
   ],
   "source": [
    "X.describe()"
   ]
  },
  {
   "cell_type": "code",
   "execution_count": 8,
   "id": "f839639f",
   "metadata": {},
   "outputs": [
    {
     "data": {
      "text/plain": [
       "0.0    194377\n",
       "1.0     35097\n",
       "Name: Diabetes_binary, dtype: int64"
      ]
     },
     "execution_count": 8,
     "metadata": {},
     "output_type": "execute_result"
    }
   ],
   "source": [
    "# Check the balance of our target values\n",
    "y['Diabetes_binary'].value_counts()"
   ]
  },
  {
   "cell_type": "markdown",
   "id": "004e7f54",
   "metadata": {},
   "source": [
    "### Connect to the AWS RDS instance and write DataFrames to table in RDS."
   ]
  },
  {
   "cell_type": "code",
   "execution_count": 491,
   "id": "98652dc5",
   "metadata": {},
   "outputs": [
    {
     "name": "stdout",
     "output_type": "stream",
     "text": [
      "········\n"
     ]
    }
   ],
   "source": [
    "from sqlalchemy import create_engine\n",
    "from getpass import getpass \n",
    "password = getpass()\n",
    "\n",
    "host='finalprojectpostgresdb.c8qy85pnur1r.us-east-1.rds.amazonaws.com'\n",
    "port=int(5432)\n",
    "username='finalprojectg4'\n",
    "passw=password\n",
    "database='finalprojectg4'"
   ]
  },
  {
   "cell_type": "code",
   "execution_count": 492,
   "id": "9b998585",
   "metadata": {},
   "outputs": [],
   "source": [
    "# Create a sqlalchemy engine\n",
    "engine = create_engine('postgresql+psycopg2://' + username + ':' + passw + '@' + host + ':'+ str(port) + '/' + database , echo=False)"
   ]
  },
  {
   "cell_type": "code",
   "execution_count": 493,
   "id": "be92b9fb",
   "metadata": {},
   "outputs": [],
   "source": [
    "# Create dataframe for patient_info and patient_result\n",
    "patient_info = X.copy()\n",
    "patient_result = y.copy()\n",
    "patient_data = cleaned_df.copy()"
   ]
  },
  {
   "cell_type": "code",
   "execution_count": 494,
   "id": "b5ac9f7b",
   "metadata": {},
   "outputs": [
    {
     "data": {
      "text/plain": [
       "474"
      ]
     },
     "execution_count": 494,
     "metadata": {},
     "output_type": "execute_result"
    }
   ],
   "source": [
    "# Write patient_info to table in RDS\n",
    "patient_info.to_sql('patient_info', engine, if_exists='replace',index=False)"
   ]
  },
  {
   "cell_type": "code",
   "execution_count": 495,
   "id": "3f8b4d04",
   "metadata": {},
   "outputs": [
    {
     "data": {
      "text/plain": [
       "474"
      ]
     },
     "execution_count": 495,
     "metadata": {},
     "output_type": "execute_result"
    }
   ],
   "source": [
    "# Write patient_result to table in RDS\n",
    "patient_result.to_sql('patient_result', engine, if_exists='replace',index=False)"
   ]
  },
  {
   "cell_type": "code",
   "execution_count": 496,
   "id": "2f4ac0da",
   "metadata": {},
   "outputs": [
    {
     "data": {
      "text/plain": [
       "474"
      ]
     },
     "execution_count": 496,
     "metadata": {},
     "output_type": "execute_result"
    }
   ],
   "source": [
    "# Write patient_data to table in RDS\n",
    "patient_data.to_sql('patient_data', engine, if_exists='replace',index=False)"
   ]
  },
  {
   "cell_type": "markdown",
   "id": "9f76a163",
   "metadata": {},
   "source": [
    "### Split the Data into Training and Testing"
   ]
  },
  {
   "cell_type": "code",
   "execution_count": 9,
   "id": "cf818ede",
   "metadata": {},
   "outputs": [],
   "source": [
    "from sklearn.model_selection import train_test_split\n",
    "\n",
    "X_train, X_test, y_train, y_test = train_test_split(X, y, random_state=1,stratify=y)"
   ]
  },
  {
   "cell_type": "markdown",
   "id": "f97a3cfb",
   "metadata": {},
   "source": [
    "### Standardize the data"
   ]
  },
  {
   "cell_type": "code",
   "execution_count": 10,
   "id": "96e64573",
   "metadata": {},
   "outputs": [],
   "source": [
    "from sklearn.preprocessing import StandardScaler\n",
    "scaler = StandardScaler().fit(X_train)\n",
    "X_train_scaled = scaler.transform(X_train)\n",
    "X_test_scaled = scaler.transform(X_test)"
   ]
  },
  {
   "cell_type": "markdown",
   "id": "52d2fc13",
   "metadata": {},
   "source": [
    "### SVM"
   ]
  },
  {
   "cell_type": "code",
   "execution_count": 48,
   "id": "b98d8adb",
   "metadata": {},
   "outputs": [
    {
     "data": {
      "text/plain": [
       "SVC(kernel='linear')"
      ]
     },
     "execution_count": 48,
     "metadata": {},
     "output_type": "execute_result"
    }
   ],
   "source": [
    "from sklearn.svm import SVC\n",
    "\n",
    "# Create a SVM classifier\n",
    "svm_clf = SVC(kernel='linear')\n",
    "\n",
    "# Train svm_clf using the training sets\n",
    "svm_clf.fit(X_train_scaled, y_train.values.ravel())"
   ]
  },
  {
   "cell_type": "code",
   "execution_count": 49,
   "id": "46d14663",
   "metadata": {},
   "outputs": [],
   "source": [
    "# Predict the response for test dataset\n",
    "y_pred = svm_clf.predict(X_test_scaled)"
   ]
  },
  {
   "cell_type": "code",
   "execution_count": 50,
   "id": "fab45c13",
   "metadata": {},
   "outputs": [
    {
     "data": {
      "text/html": [
       "<div>\n",
       "<style scoped>\n",
       "    .dataframe tbody tr th:only-of-type {\n",
       "        vertical-align: middle;\n",
       "    }\n",
       "\n",
       "    .dataframe tbody tr th {\n",
       "        vertical-align: top;\n",
       "    }\n",
       "\n",
       "    .dataframe thead th {\n",
       "        text-align: right;\n",
       "    }\n",
       "</style>\n",
       "<table border=\"1\" class=\"dataframe\">\n",
       "  <thead>\n",
       "    <tr style=\"text-align: right;\">\n",
       "      <th></th>\n",
       "      <th>Prediction</th>\n",
       "      <th>Actual</th>\n",
       "    </tr>\n",
       "  </thead>\n",
       "  <tbody>\n",
       "    <tr>\n",
       "      <th>0</th>\n",
       "      <td>0.0</td>\n",
       "      <td>0.0</td>\n",
       "    </tr>\n",
       "    <tr>\n",
       "      <th>1</th>\n",
       "      <td>0.0</td>\n",
       "      <td>0.0</td>\n",
       "    </tr>\n",
       "    <tr>\n",
       "      <th>2</th>\n",
       "      <td>0.0</td>\n",
       "      <td>0.0</td>\n",
       "    </tr>\n",
       "    <tr>\n",
       "      <th>3</th>\n",
       "      <td>0.0</td>\n",
       "      <td>1.0</td>\n",
       "    </tr>\n",
       "    <tr>\n",
       "      <th>4</th>\n",
       "      <td>0.0</td>\n",
       "      <td>0.0</td>\n",
       "    </tr>\n",
       "  </tbody>\n",
       "</table>\n",
       "</div>"
      ],
      "text/plain": [
       "   Prediction  Actual\n",
       "0         0.0     0.0\n",
       "1         0.0     0.0\n",
       "2         0.0     0.0\n",
       "3         0.0     1.0\n",
       "4         0.0     0.0"
      ]
     },
     "execution_count": 50,
     "metadata": {},
     "output_type": "execute_result"
    }
   ],
   "source": [
    "# Compare the predicted results to the actual results\n",
    "results = pd.DataFrame({\"Prediction\": y_pred,\"Actual\": y_test.values.ravel()}).reset_index(drop=True)\n",
    "results.head()"
   ]
  },
  {
   "cell_type": "code",
   "execution_count": 51,
   "id": "eb52cba9",
   "metadata": {},
   "outputs": [],
   "source": [
    "# Calculated the balanced accuracy score\n",
    "acc_score = accuracy_score(y_test, y_pred)"
   ]
  },
  {
   "cell_type": "code",
   "execution_count": 52,
   "id": "aaa9ad26",
   "metadata": {},
   "outputs": [
    {
     "data": {
      "text/html": [
       "<div>\n",
       "<style scoped>\n",
       "    .dataframe tbody tr th:only-of-type {\n",
       "        vertical-align: middle;\n",
       "    }\n",
       "\n",
       "    .dataframe tbody tr th {\n",
       "        vertical-align: top;\n",
       "    }\n",
       "\n",
       "    .dataframe thead th {\n",
       "        text-align: right;\n",
       "    }\n",
       "</style>\n",
       "<table border=\"1\" class=\"dataframe\">\n",
       "  <thead>\n",
       "    <tr style=\"text-align: right;\">\n",
       "      <th></th>\n",
       "      <th>Predicted 0</th>\n",
       "      <th>Predicted 1</th>\n",
       "    </tr>\n",
       "  </thead>\n",
       "  <tbody>\n",
       "    <tr>\n",
       "      <th>Actual 0</th>\n",
       "      <td>48595</td>\n",
       "      <td>0</td>\n",
       "    </tr>\n",
       "    <tr>\n",
       "      <th>Actual 1</th>\n",
       "      <td>8774</td>\n",
       "      <td>0</td>\n",
       "    </tr>\n",
       "  </tbody>\n",
       "</table>\n",
       "</div>"
      ],
      "text/plain": [
       "          Predicted 0  Predicted 1\n",
       "Actual 0        48595            0\n",
       "Actual 1         8774            0"
      ]
     },
     "execution_count": 52,
     "metadata": {},
     "output_type": "execute_result"
    }
   ],
   "source": [
    "# Display the confusion matrix\n",
    "cm = confusion_matrix(y_test,y_pred)\n",
    "\n",
    "# Create a DataFrame from the confusion matrix.\n",
    "cm_df = pd.DataFrame(\n",
    "    cm, index=[\"Actual 0\", \"Actual 1\"], columns=[\"Predicted 0\", \"Predicted 1\"])\n",
    "\n",
    "cm_df"
   ]
  },
  {
   "cell_type": "code",
   "execution_count": 502,
   "id": "47aaa0be",
   "metadata": {},
   "outputs": [
    {
     "name": "stdout",
     "output_type": "stream",
     "text": [
      "SVM Model:\n",
      "Confusion Matrix\n"
     ]
    },
    {
     "data": {
      "text/html": [
       "<div>\n",
       "<style scoped>\n",
       "    .dataframe tbody tr th:only-of-type {\n",
       "        vertical-align: middle;\n",
       "    }\n",
       "\n",
       "    .dataframe tbody tr th {\n",
       "        vertical-align: top;\n",
       "    }\n",
       "\n",
       "    .dataframe thead th {\n",
       "        text-align: right;\n",
       "    }\n",
       "</style>\n",
       "<table border=\"1\" class=\"dataframe\">\n",
       "  <thead>\n",
       "    <tr style=\"text-align: right;\">\n",
       "      <th></th>\n",
       "      <th>Predicted 0</th>\n",
       "      <th>Predicted 1</th>\n",
       "    </tr>\n",
       "  </thead>\n",
       "  <tbody>\n",
       "    <tr>\n",
       "      <th>Actual 0</th>\n",
       "      <td>48595</td>\n",
       "      <td>0</td>\n",
       "    </tr>\n",
       "    <tr>\n",
       "      <th>Actual 1</th>\n",
       "      <td>8774</td>\n",
       "      <td>0</td>\n",
       "    </tr>\n",
       "  </tbody>\n",
       "</table>\n",
       "</div>"
      ],
      "text/plain": [
       "          Predicted 0  Predicted 1\n",
       "Actual 0        48595            0\n",
       "Actual 1         8774            0"
      ]
     },
     "metadata": {},
     "output_type": "display_data"
    },
    {
     "name": "stdout",
     "output_type": "stream",
     "text": [
      "Accuracy Score : 0.8470602590249089\n",
      "Classification Report\n",
      "              precision    recall  f1-score   support\n",
      "\n",
      "         0.0       0.95      0.71      0.81     48595\n",
      "         1.0       0.32      0.77      0.46      8774\n",
      "\n",
      "    accuracy                           0.72     57369\n",
      "   macro avg       0.63      0.74      0.63     57369\n",
      "weighted avg       0.85      0.72      0.76     57369\n",
      "\n"
     ]
    }
   ],
   "source": [
    "# Displaying results\n",
    "print (\"SVM Model:\")\n",
    "print(\"Confusion Matrix\")\n",
    "display(cm_df)\n",
    "print(f\"Accuracy Score : {acc_score}\")\n",
    "print(\"Classification Report\")\n",
    "print(classification_report(y_test, y_pred))"
   ]
  },
  {
   "cell_type": "markdown",
   "id": "bf5a993c",
   "metadata": {},
   "source": [
    "### Decision Trees Model"
   ]
  },
  {
   "cell_type": "code",
   "execution_count": 17,
   "id": "40bbb19e",
   "metadata": {},
   "outputs": [],
   "source": [
    "from sklearn import tree"
   ]
  },
  {
   "cell_type": "code",
   "execution_count": 504,
   "id": "62e050df",
   "metadata": {},
   "outputs": [],
   "source": [
    "# Creating the decision tree classifier instance.\n",
    "dt_clf = tree.DecisionTreeClassifier()\n",
    "\n",
    "# Fitting the model.\n",
    "dt_clf = dt_clf.fit(X_train_scaled, y_train)"
   ]
  },
  {
   "cell_type": "code",
   "execution_count": 505,
   "id": "828d5d4e",
   "metadata": {},
   "outputs": [
    {
     "data": {
      "text/plain": [
       "array([0., 1., 1., ..., 0., 0., 0.])"
      ]
     },
     "execution_count": 505,
     "metadata": {},
     "output_type": "execute_result"
    }
   ],
   "source": [
    "# Making predictions using the testing data.\n",
    "y_pred = dt_clf.predict(X_test_scaled)\n",
    "y_pred"
   ]
  },
  {
   "cell_type": "code",
   "execution_count": 506,
   "id": "8cd57793",
   "metadata": {},
   "outputs": [
    {
     "data": {
      "text/html": [
       "<div>\n",
       "<style scoped>\n",
       "    .dataframe tbody tr th:only-of-type {\n",
       "        vertical-align: middle;\n",
       "    }\n",
       "\n",
       "    .dataframe tbody tr th {\n",
       "        vertical-align: top;\n",
       "    }\n",
       "\n",
       "    .dataframe thead th {\n",
       "        text-align: right;\n",
       "    }\n",
       "</style>\n",
       "<table border=\"1\" class=\"dataframe\">\n",
       "  <thead>\n",
       "    <tr style=\"text-align: right;\">\n",
       "      <th></th>\n",
       "      <th>Predicted 0</th>\n",
       "      <th>Predicted 1</th>\n",
       "    </tr>\n",
       "  </thead>\n",
       "  <tbody>\n",
       "    <tr>\n",
       "      <th>Actual 0</th>\n",
       "      <td>41523</td>\n",
       "      <td>7072</td>\n",
       "    </tr>\n",
       "    <tr>\n",
       "      <th>Actual 1</th>\n",
       "      <td>5863</td>\n",
       "      <td>2911</td>\n",
       "    </tr>\n",
       "  </tbody>\n",
       "</table>\n",
       "</div>"
      ],
      "text/plain": [
       "          Predicted 0  Predicted 1\n",
       "Actual 0        41523         7072\n",
       "Actual 1         5863         2911"
      ]
     },
     "execution_count": 506,
     "metadata": {},
     "output_type": "execute_result"
    }
   ],
   "source": [
    "# Calculating the confusion matrix\n",
    "cm = confusion_matrix(y_test, y_pred)\n",
    "\n",
    "# Create a DataFrame from the confusion matrix.\n",
    "cm_df = pd.DataFrame(\n",
    "    cm, index=[\"Actual 0\", \"Actual 1\"], columns=[\"Predicted 0\", \"Predicted 1\"])\n",
    "\n",
    "cm_df"
   ]
  },
  {
   "cell_type": "code",
   "execution_count": 507,
   "id": "aa3db0a7",
   "metadata": {},
   "outputs": [],
   "source": [
    "# Calculating the accuracy score.\n",
    "acc_score = accuracy_score(y_test, y_pred)"
   ]
  },
  {
   "cell_type": "code",
   "execution_count": 508,
   "id": "1268c7dc",
   "metadata": {},
   "outputs": [
    {
     "name": "stdout",
     "output_type": "stream",
     "text": [
      "Decision Trees Model:\n",
      "Confusion Matrix\n"
     ]
    },
    {
     "data": {
      "text/html": [
       "<div>\n",
       "<style scoped>\n",
       "    .dataframe tbody tr th:only-of-type {\n",
       "        vertical-align: middle;\n",
       "    }\n",
       "\n",
       "    .dataframe tbody tr th {\n",
       "        vertical-align: top;\n",
       "    }\n",
       "\n",
       "    .dataframe thead th {\n",
       "        text-align: right;\n",
       "    }\n",
       "</style>\n",
       "<table border=\"1\" class=\"dataframe\">\n",
       "  <thead>\n",
       "    <tr style=\"text-align: right;\">\n",
       "      <th></th>\n",
       "      <th>Predicted 0</th>\n",
       "      <th>Predicted 1</th>\n",
       "    </tr>\n",
       "  </thead>\n",
       "  <tbody>\n",
       "    <tr>\n",
       "      <th>Actual 0</th>\n",
       "      <td>41523</td>\n",
       "      <td>7072</td>\n",
       "    </tr>\n",
       "    <tr>\n",
       "      <th>Actual 1</th>\n",
       "      <td>5863</td>\n",
       "      <td>2911</td>\n",
       "    </tr>\n",
       "  </tbody>\n",
       "</table>\n",
       "</div>"
      ],
      "text/plain": [
       "          Predicted 0  Predicted 1\n",
       "Actual 0        41523         7072\n",
       "Actual 1         5863         2911"
      ]
     },
     "metadata": {},
     "output_type": "display_data"
    },
    {
     "name": "stdout",
     "output_type": "stream",
     "text": [
      "Accuracy Score : 0.7745297983231362\n",
      "Classification Report\n",
      "              precision    recall  f1-score   support\n",
      "\n",
      "         0.0       0.88      0.85      0.87     48595\n",
      "         1.0       0.29      0.33      0.31      8774\n",
      "\n",
      "    accuracy                           0.77     57369\n",
      "   macro avg       0.58      0.59      0.59     57369\n",
      "weighted avg       0.79      0.77      0.78     57369\n",
      "\n"
     ]
    }
   ],
   "source": [
    "# Displaying results\n",
    "print(\"Decision Trees Model:\")\n",
    "print(\"Confusion Matrix\")\n",
    "display(cm_df)\n",
    "print(f\"Accuracy Score : {acc_score}\")\n",
    "print(\"Classification Report\")\n",
    "print(classification_report(y_test, y_pred))"
   ]
  },
  {
   "cell_type": "code",
   "execution_count": 509,
   "id": "a4589d18",
   "metadata": {},
   "outputs": [
    {
     "name": "stdout",
     "output_type": "stream",
     "text": [
      "BMI: (0.13705153932193032)\n",
      "Income: (0.10971714476739201)\n",
      "Age: (0.09988031135634336)\n",
      "PhysHlth: (0.09120615943289305)\n",
      "Education: (0.07757499027022575)\n",
      "MentHlth: (0.06928271224629359)\n",
      "HighBP: (0.0662025460535878)\n",
      "GenHlth: (0.06231212759654337)\n",
      "Smoker: (0.03829235963149839)\n",
      "Fruits: (0.03765548336183787)\n",
      "PhysActivity: (0.03435206432568912)\n",
      "Sex: (0.031079389113766072)\n",
      "Veggies: (0.029626015407587088)\n",
      "DiffWalk: (0.02485838893109119)\n",
      "HeartDiseaseorAttack: (0.018141755941764787)\n",
      "NoDocbcCost: (0.017827225891933928)\n",
      "HighChol: (0.017738623837810167)\n",
      "Stroke: (0.015566937910028816)\n",
      "AnyHealthcare: (0.009608194668243813)\n",
      "HvyAlcoholConsump: (0.00800892777397466)\n",
      "CholCheck: (0.00401710215956489)\n"
     ]
    }
   ],
   "source": [
    "# List the features sorted in descending order by feature importance\n",
    "importances = dt_clf.feature_importances_\n",
    "importance_list = pd.DataFrame({\"Column\":X.columns,\"Value\":importances}).sort_values(by=['Value'],ascending = False)\n",
    "\n",
    "for index, row in importance_list.iterrows():\n",
    "    print(f'{row[\"Column\"]}: ({row[\"Value\"]})')"
   ]
  },
  {
   "cell_type": "markdown",
   "id": "2bc83cbe",
   "metadata": {},
   "source": [
    "## Oversampling"
   ]
  },
  {
   "cell_type": "markdown",
   "id": "f65b4e66",
   "metadata": {},
   "source": [
    "### RandomOverSampler (Oversample)"
   ]
  },
  {
   "cell_type": "code",
   "execution_count": 510,
   "id": "aa316bcc",
   "metadata": {},
   "outputs": [
    {
     "data": {
      "text/plain": [
       "Counter({'Diabetes_binary': 1})"
      ]
     },
     "execution_count": 510,
     "metadata": {},
     "output_type": "execute_result"
    }
   ],
   "source": [
    "# Resample the training data with the RandomOversampler\n",
    "from imblearn.over_sampling import RandomOverSampler\n",
    "from collections import Counter\n",
    "\n",
    "sampler = RandomOverSampler(random_state = 1)\n",
    "X_resampled, y_resampled = sampler.fit_resample(X_train, y_train)\n",
    "\n",
    "Counter(y_resampled)"
   ]
  },
  {
   "cell_type": "code",
   "execution_count": 511,
   "id": "e3e438aa",
   "metadata": {},
   "outputs": [
    {
     "data": {
      "text/plain": [
       "LogisticRegression(max_iter=10000, random_state=1)"
      ]
     },
     "execution_count": 511,
     "metadata": {},
     "output_type": "execute_result"
    }
   ],
   "source": [
    "from sklearn.linear_model import LogisticRegression\n",
    "# Train the Logistic Regression model using the resampled data\n",
    "ros_lr_model = LogisticRegression(solver = 'lbfgs', random_state = 1, max_iter = 10000)\n",
    "ros_lr_model.fit(X_resampled, y_resampled.values.ravel())"
   ]
  },
  {
   "cell_type": "code",
   "execution_count": 516,
   "id": "81c1f4dd",
   "metadata": {},
   "outputs": [
    {
     "data": {
      "text/plain": [
       "0.7372674642055388"
      ]
     },
     "execution_count": 516,
     "metadata": {},
     "output_type": "execute_result"
    }
   ],
   "source": [
    "# Calculated the balanced accuracy score\n",
    "y_pred = ros_lr_model.predict(X_test)\n",
    "acc_score = balanced_accuracy_score(y_test, y_pred)\n",
    "acc_score"
   ]
  },
  {
   "cell_type": "code",
   "execution_count": 513,
   "id": "5c7fe562",
   "metadata": {},
   "outputs": [
    {
     "data": {
      "text/html": [
       "<div>\n",
       "<style scoped>\n",
       "    .dataframe tbody tr th:only-of-type {\n",
       "        vertical-align: middle;\n",
       "    }\n",
       "\n",
       "    .dataframe tbody tr th {\n",
       "        vertical-align: top;\n",
       "    }\n",
       "\n",
       "    .dataframe thead th {\n",
       "        text-align: right;\n",
       "    }\n",
       "</style>\n",
       "<table border=\"1\" class=\"dataframe\">\n",
       "  <thead>\n",
       "    <tr style=\"text-align: right;\">\n",
       "      <th></th>\n",
       "      <th>Predicted 0</th>\n",
       "      <th>Predicted 1</th>\n",
       "    </tr>\n",
       "  </thead>\n",
       "  <tbody>\n",
       "    <tr>\n",
       "      <th>Actual 0</th>\n",
       "      <td>34702</td>\n",
       "      <td>13893</td>\n",
       "    </tr>\n",
       "    <tr>\n",
       "      <th>Actual 1</th>\n",
       "      <td>2102</td>\n",
       "      <td>6672</td>\n",
       "    </tr>\n",
       "  </tbody>\n",
       "</table>\n",
       "</div>"
      ],
      "text/plain": [
       "          Predicted 0  Predicted 1\n",
       "Actual 0        34702        13893\n",
       "Actual 1         2102         6672"
      ]
     },
     "execution_count": 513,
     "metadata": {},
     "output_type": "execute_result"
    }
   ],
   "source": [
    "# Calculating the confusion matrix\n",
    "cm = confusion_matrix(y_test, y_pred)\n",
    "\n",
    "# Create a DataFrame from the confusion matrix.\n",
    "cm_df = pd.DataFrame(\n",
    "    cm, index=[\"Actual 0\", \"Actual 1\"], columns=[\"Predicted 0\", \"Predicted 1\"])\n",
    "\n",
    "cm_df"
   ]
  },
  {
   "cell_type": "code",
   "execution_count": 514,
   "id": "d31ed7cc",
   "metadata": {},
   "outputs": [
    {
     "name": "stdout",
     "output_type": "stream",
     "text": [
      "                   pre       rec       spe        f1       geo       iba       sup\n",
      "\n",
      "        0.0       0.94      0.71      0.76      0.81      0.74      0.54     48595\n",
      "        1.0       0.32      0.76      0.71      0.45      0.74      0.55      8774\n",
      "\n",
      "avg / total       0.85      0.72      0.75      0.76      0.74      0.54     57369\n",
      "\n"
     ]
    }
   ],
   "source": [
    "# Print the imbalanced classification report\n",
    "print(classification_report_imbalanced(y_test, y_pred))"
   ]
  },
  {
   "cell_type": "code",
   "execution_count": 515,
   "id": "2fc43e94",
   "metadata": {},
   "outputs": [
    {
     "name": "stdout",
     "output_type": "stream",
     "text": [
      "RandomOverSampler Model:\n",
      "Confusion Matrix\n"
     ]
    },
    {
     "data": {
      "text/html": [
       "<div>\n",
       "<style scoped>\n",
       "    .dataframe tbody tr th:only-of-type {\n",
       "        vertical-align: middle;\n",
       "    }\n",
       "\n",
       "    .dataframe tbody tr th {\n",
       "        vertical-align: top;\n",
       "    }\n",
       "\n",
       "    .dataframe thead th {\n",
       "        text-align: right;\n",
       "    }\n",
       "</style>\n",
       "<table border=\"1\" class=\"dataframe\">\n",
       "  <thead>\n",
       "    <tr style=\"text-align: right;\">\n",
       "      <th></th>\n",
       "      <th>Predicted 0</th>\n",
       "      <th>Predicted 1</th>\n",
       "    </tr>\n",
       "  </thead>\n",
       "  <tbody>\n",
       "    <tr>\n",
       "      <th>Actual 0</th>\n",
       "      <td>34702</td>\n",
       "      <td>13893</td>\n",
       "    </tr>\n",
       "    <tr>\n",
       "      <th>Actual 1</th>\n",
       "      <td>2102</td>\n",
       "      <td>6672</td>\n",
       "    </tr>\n",
       "  </tbody>\n",
       "</table>\n",
       "</div>"
      ],
      "text/plain": [
       "          Predicted 0  Predicted 1\n",
       "Actual 0        34702        13893\n",
       "Actual 1         2102         6672"
      ]
     },
     "metadata": {},
     "output_type": "display_data"
    },
    {
     "name": "stdout",
     "output_type": "stream",
     "text": [
      "Accuracy Score : 0.7372674642055388\n",
      "Imbalanced Classification Report\n",
      "                   pre       rec       spe        f1       geo       iba       sup\n",
      "\n",
      "        0.0       0.94      0.71      0.76      0.81      0.74      0.54     48595\n",
      "        1.0       0.32      0.76      0.71      0.45      0.74      0.55      8774\n",
      "\n",
      "avg / total       0.85      0.72      0.75      0.76      0.74      0.54     57369\n",
      "\n"
     ]
    }
   ],
   "source": [
    "# Displaying results\n",
    "print(\"RandomOverSampler Model:\")\n",
    "print(\"Confusion Matrix\")\n",
    "display(cm_df)\n",
    "print(f\"Accuracy Score : {acc_score}\")\n",
    "print(\"Imbalanced Classification Report\")\n",
    "print(classification_report_imbalanced(y_test, y_pred))"
   ]
  },
  {
   "cell_type": "markdown",
   "id": "5397a81c",
   "metadata": {},
   "source": [
    "### SMOTE (Oversample)"
   ]
  },
  {
   "cell_type": "code",
   "execution_count": 517,
   "id": "665ddd85",
   "metadata": {},
   "outputs": [
    {
     "data": {
      "text/plain": [
       "Counter({'Diabetes_binary': 1})"
      ]
     },
     "execution_count": 517,
     "metadata": {},
     "output_type": "execute_result"
    }
   ],
   "source": [
    "# Resample the training data with SMOTE\n",
    "from imblearn.over_sampling import SMOTE\n",
    "\n",
    "X_resampled, y_resampled = SMOTE(random_state = 1, sampling_strategy = 'auto').fit_resample(X_train, y_train)\n",
    "Counter(y_resampled)"
   ]
  },
  {
   "cell_type": "code",
   "execution_count": 518,
   "id": "63119778",
   "metadata": {},
   "outputs": [
    {
     "data": {
      "text/plain": [
       "LogisticRegression(max_iter=10000, random_state=1)"
      ]
     },
     "execution_count": 518,
     "metadata": {},
     "output_type": "execute_result"
    }
   ],
   "source": [
    "# Train the Logistic Regression model using the resampled data\n",
    "smote_lr_model = LogisticRegression(solver = 'lbfgs', random_state = 1, max_iter = 10000)\n",
    "smote_lr_model.fit(X_resampled, y_resampled.values.ravel())"
   ]
  },
  {
   "cell_type": "code",
   "execution_count": 519,
   "id": "1d50302c",
   "metadata": {},
   "outputs": [
    {
     "data": {
      "text/plain": [
       "0.7332989838721552"
      ]
     },
     "execution_count": 519,
     "metadata": {},
     "output_type": "execute_result"
    }
   ],
   "source": [
    "# Calculated the balanced accuracy score\n",
    "y_pred = smote_lr_model.predict(X_test)\n",
    "acc_score = balanced_accuracy_score(y_test, y_pred)\n",
    "acc_score"
   ]
  },
  {
   "cell_type": "code",
   "execution_count": 521,
   "id": "d1e9ba6d",
   "metadata": {},
   "outputs": [
    {
     "data": {
      "text/html": [
       "<div>\n",
       "<style scoped>\n",
       "    .dataframe tbody tr th:only-of-type {\n",
       "        vertical-align: middle;\n",
       "    }\n",
       "\n",
       "    .dataframe tbody tr th {\n",
       "        vertical-align: top;\n",
       "    }\n",
       "\n",
       "    .dataframe thead th {\n",
       "        text-align: right;\n",
       "    }\n",
       "</style>\n",
       "<table border=\"1\" class=\"dataframe\">\n",
       "  <thead>\n",
       "    <tr style=\"text-align: right;\">\n",
       "      <th></th>\n",
       "      <th>Predicted 0</th>\n",
       "      <th>Predicted 1</th>\n",
       "    </tr>\n",
       "  </thead>\n",
       "  <tbody>\n",
       "    <tr>\n",
       "      <th>Actual 0</th>\n",
       "      <td>34704</td>\n",
       "      <td>13891</td>\n",
       "    </tr>\n",
       "    <tr>\n",
       "      <th>Actual 1</th>\n",
       "      <td>2172</td>\n",
       "      <td>6602</td>\n",
       "    </tr>\n",
       "  </tbody>\n",
       "</table>\n",
       "</div>"
      ],
      "text/plain": [
       "          Predicted 0  Predicted 1\n",
       "Actual 0        34704        13891\n",
       "Actual 1         2172         6602"
      ]
     },
     "execution_count": 521,
     "metadata": {},
     "output_type": "execute_result"
    }
   ],
   "source": [
    "# Calculating the confusion matrix\n",
    "cm = confusion_matrix(y_test, y_pred)\n",
    "\n",
    "# Create a DataFrame from the confusion matrix.\n",
    "cm_df = pd.DataFrame(\n",
    "    cm, index=[\"Actual 0\", \"Actual 1\"], columns=[\"Predicted 0\", \"Predicted 1\"])\n",
    "\n",
    "cm_df"
   ]
  },
  {
   "cell_type": "code",
   "execution_count": 522,
   "id": "afd25ef4",
   "metadata": {},
   "outputs": [
    {
     "name": "stdout",
     "output_type": "stream",
     "text": [
      "                   pre       rec       spe        f1       geo       iba       sup\n",
      "\n",
      "        0.0       0.94      0.71      0.75      0.81      0.73      0.54     48595\n",
      "        1.0       0.32      0.75      0.71      0.45      0.73      0.54      8774\n",
      "\n",
      "avg / total       0.85      0.72      0.75      0.76      0.73      0.54     57369\n",
      "\n"
     ]
    }
   ],
   "source": [
    "# Print the imbalanced classification report\n",
    "print(classification_report_imbalanced(y_test, y_pred))"
   ]
  },
  {
   "cell_type": "code",
   "execution_count": 524,
   "id": "043bf5fc",
   "metadata": {},
   "outputs": [
    {
     "name": "stdout",
     "output_type": "stream",
     "text": [
      "SMOTE Model:\n",
      "Confusion Matrix\n"
     ]
    },
    {
     "data": {
      "text/html": [
       "<div>\n",
       "<style scoped>\n",
       "    .dataframe tbody tr th:only-of-type {\n",
       "        vertical-align: middle;\n",
       "    }\n",
       "\n",
       "    .dataframe tbody tr th {\n",
       "        vertical-align: top;\n",
       "    }\n",
       "\n",
       "    .dataframe thead th {\n",
       "        text-align: right;\n",
       "    }\n",
       "</style>\n",
       "<table border=\"1\" class=\"dataframe\">\n",
       "  <thead>\n",
       "    <tr style=\"text-align: right;\">\n",
       "      <th></th>\n",
       "      <th>Predicted 0</th>\n",
       "      <th>Predicted 1</th>\n",
       "    </tr>\n",
       "  </thead>\n",
       "  <tbody>\n",
       "    <tr>\n",
       "      <th>Actual 0</th>\n",
       "      <td>34704</td>\n",
       "      <td>13891</td>\n",
       "    </tr>\n",
       "    <tr>\n",
       "      <th>Actual 1</th>\n",
       "      <td>2172</td>\n",
       "      <td>6602</td>\n",
       "    </tr>\n",
       "  </tbody>\n",
       "</table>\n",
       "</div>"
      ],
      "text/plain": [
       "          Predicted 0  Predicted 1\n",
       "Actual 0        34704        13891\n",
       "Actual 1         2172         6602"
      ]
     },
     "metadata": {},
     "output_type": "display_data"
    },
    {
     "name": "stdout",
     "output_type": "stream",
     "text": [
      "Accuracy Score : 0.7332989838721552\n",
      "Imbalanced Classification Report\n",
      "                   pre       rec       spe        f1       geo       iba       sup\n",
      "\n",
      "        0.0       0.94      0.71      0.75      0.81      0.73      0.54     48595\n",
      "        1.0       0.32      0.75      0.71      0.45      0.73      0.54      8774\n",
      "\n",
      "avg / total       0.85      0.72      0.75      0.76      0.73      0.54     57369\n",
      "\n"
     ]
    }
   ],
   "source": [
    "# Displaying results\n",
    "print(\"SMOTE Model:\")\n",
    "print(\"Confusion Matrix\")\n",
    "display(cm_df)\n",
    "print(f\"Accuracy Score : {acc_score}\")\n",
    "print(\"Imbalanced Classification Report\")\n",
    "print(classification_report_imbalanced(y_test, y_pred))"
   ]
  },
  {
   "cell_type": "markdown",
   "id": "1413e69a",
   "metadata": {},
   "source": [
    "## Undersampling"
   ]
  },
  {
   "cell_type": "markdown",
   "id": "e539190a",
   "metadata": {},
   "source": [
    "### ClusterCentroids (Undersample)"
   ]
  },
  {
   "cell_type": "code",
   "execution_count": 525,
   "id": "648b728b",
   "metadata": {},
   "outputs": [
    {
     "data": {
      "text/plain": [
       "Counter({'Diabetes_binary': 1})"
      ]
     },
     "execution_count": 525,
     "metadata": {},
     "output_type": "execute_result"
    }
   ],
   "source": [
    "# Resample the data using the ClusterCentroids resampler\n",
    "# Warning: This is a large dataset, and this step may take some time to complete\n",
    "from imblearn.under_sampling import ClusterCentroids\n",
    "\n",
    "cc = ClusterCentroids(random_state = 1)\n",
    "X_resampled, y_resampled = cc.fit_resample(X_train, y_train)\n",
    "\n",
    "Counter(y_resampled)"
   ]
  },
  {
   "cell_type": "code",
   "execution_count": 526,
   "id": "92600093",
   "metadata": {},
   "outputs": [
    {
     "data": {
      "text/plain": [
       "LogisticRegression(max_iter=10000, random_state=1)"
      ]
     },
     "execution_count": 526,
     "metadata": {},
     "output_type": "execute_result"
    }
   ],
   "source": [
    "# Train the Logistic Regression model using the resampled data\n",
    "cc_lr_model = LogisticRegression(solver = 'lbfgs', random_state = 1, max_iter = 10000)\n",
    "cc_lr_model.fit(X_resampled, y_resampled.values.ravel())"
   ]
  },
  {
   "cell_type": "code",
   "execution_count": 527,
   "id": "e3f6d036",
   "metadata": {},
   "outputs": [
    {
     "data": {
      "text/plain": [
       "0.7092809801794688"
      ]
     },
     "execution_count": 527,
     "metadata": {},
     "output_type": "execute_result"
    }
   ],
   "source": [
    "# Calculated the balanced accuracy score\n",
    "y_pred = cc_lr_model.predict(X_test)\n",
    "acc_score = balanced_accuracy_score(y_test, y_pred)\n",
    "acc_score"
   ]
  },
  {
   "cell_type": "code",
   "execution_count": 528,
   "id": "a3389ade",
   "metadata": {},
   "outputs": [
    {
     "data": {
      "text/html": [
       "<div>\n",
       "<style scoped>\n",
       "    .dataframe tbody tr th:only-of-type {\n",
       "        vertical-align: middle;\n",
       "    }\n",
       "\n",
       "    .dataframe tbody tr th {\n",
       "        vertical-align: top;\n",
       "    }\n",
       "\n",
       "    .dataframe thead th {\n",
       "        text-align: right;\n",
       "    }\n",
       "</style>\n",
       "<table border=\"1\" class=\"dataframe\">\n",
       "  <thead>\n",
       "    <tr style=\"text-align: right;\">\n",
       "      <th></th>\n",
       "      <th>Predicted 0</th>\n",
       "      <th>Predicted 1</th>\n",
       "    </tr>\n",
       "  </thead>\n",
       "  <tbody>\n",
       "    <tr>\n",
       "      <th>Actual 0</th>\n",
       "      <td>32558</td>\n",
       "      <td>16037</td>\n",
       "    </tr>\n",
       "    <tr>\n",
       "      <th>Actual 1</th>\n",
       "      <td>2206</td>\n",
       "      <td>6568</td>\n",
       "    </tr>\n",
       "  </tbody>\n",
       "</table>\n",
       "</div>"
      ],
      "text/plain": [
       "          Predicted 0  Predicted 1\n",
       "Actual 0        32558        16037\n",
       "Actual 1         2206         6568"
      ]
     },
     "execution_count": 528,
     "metadata": {},
     "output_type": "execute_result"
    }
   ],
   "source": [
    "# Calculating the confusion matrix\n",
    "cm = confusion_matrix(y_test, y_pred)\n",
    "\n",
    "# Create a DataFrame from the confusion matrix.\n",
    "cm_df = pd.DataFrame(\n",
    "    cm, index=[\"Actual 0\", \"Actual 1\"], columns=[\"Predicted 0\", \"Predicted 1\"])\n",
    "\n",
    "cm_df"
   ]
  },
  {
   "cell_type": "code",
   "execution_count": 529,
   "id": "8e604a51",
   "metadata": {},
   "outputs": [
    {
     "name": "stdout",
     "output_type": "stream",
     "text": [
      "                   pre       rec       spe        f1       geo       iba       sup\n",
      "\n",
      "        0.0       0.94      0.67      0.75      0.78      0.71      0.50     48595\n",
      "        1.0       0.29      0.75      0.67      0.42      0.71      0.51      8774\n",
      "\n",
      "avg / total       0.84      0.68      0.74      0.73      0.71      0.50     57369\n",
      "\n"
     ]
    }
   ],
   "source": [
    "# Print the imbalanced classification report\n",
    "print(classification_report_imbalanced(y_test, y_pred))"
   ]
  },
  {
   "cell_type": "code",
   "execution_count": 530,
   "id": "5723fbe7",
   "metadata": {},
   "outputs": [
    {
     "name": "stdout",
     "output_type": "stream",
     "text": [
      "ClusterCentroids Model:\n",
      "Confusion Matrix\n"
     ]
    },
    {
     "data": {
      "text/html": [
       "<div>\n",
       "<style scoped>\n",
       "    .dataframe tbody tr th:only-of-type {\n",
       "        vertical-align: middle;\n",
       "    }\n",
       "\n",
       "    .dataframe tbody tr th {\n",
       "        vertical-align: top;\n",
       "    }\n",
       "\n",
       "    .dataframe thead th {\n",
       "        text-align: right;\n",
       "    }\n",
       "</style>\n",
       "<table border=\"1\" class=\"dataframe\">\n",
       "  <thead>\n",
       "    <tr style=\"text-align: right;\">\n",
       "      <th></th>\n",
       "      <th>Predicted 0</th>\n",
       "      <th>Predicted 1</th>\n",
       "    </tr>\n",
       "  </thead>\n",
       "  <tbody>\n",
       "    <tr>\n",
       "      <th>Actual 0</th>\n",
       "      <td>32558</td>\n",
       "      <td>16037</td>\n",
       "    </tr>\n",
       "    <tr>\n",
       "      <th>Actual 1</th>\n",
       "      <td>2206</td>\n",
       "      <td>6568</td>\n",
       "    </tr>\n",
       "  </tbody>\n",
       "</table>\n",
       "</div>"
      ],
      "text/plain": [
       "          Predicted 0  Predicted 1\n",
       "Actual 0        32558        16037\n",
       "Actual 1         2206         6568"
      ]
     },
     "metadata": {},
     "output_type": "display_data"
    },
    {
     "name": "stdout",
     "output_type": "stream",
     "text": [
      "Accuracy Score : 0.7092809801794688\n",
      "Imbalanced Classification Report\n",
      "                   pre       rec       spe        f1       geo       iba       sup\n",
      "\n",
      "        0.0       0.94      0.67      0.75      0.78      0.71      0.50     48595\n",
      "        1.0       0.29      0.75      0.67      0.42      0.71      0.51      8774\n",
      "\n",
      "avg / total       0.84      0.68      0.74      0.73      0.71      0.50     57369\n",
      "\n"
     ]
    }
   ],
   "source": [
    "# Displaying results\n",
    "print(\"ClusterCentroids Model:\")\n",
    "print(\"Confusion Matrix\")\n",
    "display(cm_df)\n",
    "print(f\"Accuracy Score : {acc_score}\")\n",
    "print(\"Imbalanced Classification Report\")\n",
    "print(classification_report_imbalanced(y_test, y_pred))"
   ]
  },
  {
   "cell_type": "markdown",
   "id": "7fd72c64",
   "metadata": {},
   "source": [
    "## Combination (Over and Under) Sampling"
   ]
  },
  {
   "cell_type": "markdown",
   "id": "7271b9a0",
   "metadata": {},
   "source": [
    "### SMOTEENN"
   ]
  },
  {
   "cell_type": "code",
   "execution_count": 560,
   "id": "ebb1dc20",
   "metadata": {},
   "outputs": [
    {
     "data": {
      "text/plain": [
       "Counter({'Diabetes_binary': 1})"
      ]
     },
     "execution_count": 560,
     "metadata": {},
     "output_type": "execute_result"
    }
   ],
   "source": [
    "# Resample the training data with SMOTEENN\n",
    "# Warning: This is a large dataset, and this step may take some time to complete\n",
    "from imblearn.combine import SMOTEENN\n",
    "\n",
    "smoteenn = SMOTEENN(random_state = 1)\n",
    "X_resampled, y_resampled = smoteenn.fit_resample(X, y)\n",
    "Counter(y_resampled)"
   ]
  },
  {
   "cell_type": "code",
   "execution_count": 561,
   "id": "03d70d57",
   "metadata": {},
   "outputs": [
    {
     "data": {
      "text/plain": [
       "LogisticRegression(max_iter=10000, random_state=1)"
      ]
     },
     "execution_count": 561,
     "metadata": {},
     "output_type": "execute_result"
    }
   ],
   "source": [
    "# Train the Logistic Regression model using the resampled data\n",
    "smoteenn_lr_model = LogisticRegression(solver = 'lbfgs', random_state = 1, max_iter = 10000)\n",
    "smoteenn_lr_model.fit(X_resampled, y_resampled.values.ravel())"
   ]
  },
  {
   "cell_type": "code",
   "execution_count": 562,
   "id": "770761ba",
   "metadata": {},
   "outputs": [
    {
     "data": {
      "text/plain": [
       "0.7268373433907667"
      ]
     },
     "execution_count": 562,
     "metadata": {},
     "output_type": "execute_result"
    }
   ],
   "source": [
    "# Calculated the balanced accuracy score\n",
    "y_pred = smoteenn_lr_model.predict(X_test)\n",
    "acc_score = balanced_accuracy_score(y_test, y_pred)\n",
    "acc_score"
   ]
  },
  {
   "cell_type": "code",
   "execution_count": 563,
   "id": "f6239cbf",
   "metadata": {},
   "outputs": [
    {
     "data": {
      "text/plain": [
       "array([[27751, 20844],\n",
       "       [ 1030,  7744]], dtype=int64)"
      ]
     },
     "execution_count": 563,
     "metadata": {},
     "output_type": "execute_result"
    }
   ],
   "source": [
    "# Display the confusion matrix\n",
    "confusion_matrix(y_test, y_pred)"
   ]
  },
  {
   "cell_type": "code",
   "execution_count": 564,
   "id": "fc350c49",
   "metadata": {},
   "outputs": [
    {
     "data": {
      "text/html": [
       "<div>\n",
       "<style scoped>\n",
       "    .dataframe tbody tr th:only-of-type {\n",
       "        vertical-align: middle;\n",
       "    }\n",
       "\n",
       "    .dataframe tbody tr th {\n",
       "        vertical-align: top;\n",
       "    }\n",
       "\n",
       "    .dataframe thead th {\n",
       "        text-align: right;\n",
       "    }\n",
       "</style>\n",
       "<table border=\"1\" class=\"dataframe\">\n",
       "  <thead>\n",
       "    <tr style=\"text-align: right;\">\n",
       "      <th></th>\n",
       "      <th>Predicted 0</th>\n",
       "      <th>Predicted 1</th>\n",
       "    </tr>\n",
       "  </thead>\n",
       "  <tbody>\n",
       "    <tr>\n",
       "      <th>Actual 0</th>\n",
       "      <td>27751</td>\n",
       "      <td>20844</td>\n",
       "    </tr>\n",
       "    <tr>\n",
       "      <th>Actual 1</th>\n",
       "      <td>1030</td>\n",
       "      <td>7744</td>\n",
       "    </tr>\n",
       "  </tbody>\n",
       "</table>\n",
       "</div>"
      ],
      "text/plain": [
       "          Predicted 0  Predicted 1\n",
       "Actual 0        27751        20844\n",
       "Actual 1         1030         7744"
      ]
     },
     "execution_count": 564,
     "metadata": {},
     "output_type": "execute_result"
    }
   ],
   "source": [
    "# Calculating the confusion matrix\n",
    "cm = confusion_matrix(y_test, y_pred)\n",
    "\n",
    "# Create a DataFrame from the confusion matrix.\n",
    "cm_df = pd.DataFrame(\n",
    "    cm, index=[\"Actual 0\", \"Actual 1\"], columns=[\"Predicted 0\", \"Predicted 1\"])\n",
    "\n",
    "cm_df"
   ]
  },
  {
   "cell_type": "code",
   "execution_count": 565,
   "id": "14c1d79c",
   "metadata": {},
   "outputs": [
    {
     "name": "stdout",
     "output_type": "stream",
     "text": [
      "                   pre       rec       spe        f1       geo       iba       sup\n",
      "\n",
      "        0.0       0.96      0.57      0.88      0.72      0.71      0.49     48595\n",
      "        1.0       0.27      0.88      0.57      0.41      0.71      0.52      8774\n",
      "\n",
      "avg / total       0.86      0.62      0.83      0.67      0.71      0.49     57369\n",
      "\n"
     ]
    }
   ],
   "source": [
    "# Print the imbalanced classification report\n",
    "print(classification_report_imbalanced(y_test, y_pred))"
   ]
  },
  {
   "cell_type": "code",
   "execution_count": 566,
   "id": "9b39c78e",
   "metadata": {},
   "outputs": [
    {
     "name": "stdout",
     "output_type": "stream",
     "text": [
      "SMOTEENN Model:\n",
      "Confusion Matrix\n"
     ]
    },
    {
     "data": {
      "text/html": [
       "<div>\n",
       "<style scoped>\n",
       "    .dataframe tbody tr th:only-of-type {\n",
       "        vertical-align: middle;\n",
       "    }\n",
       "\n",
       "    .dataframe tbody tr th {\n",
       "        vertical-align: top;\n",
       "    }\n",
       "\n",
       "    .dataframe thead th {\n",
       "        text-align: right;\n",
       "    }\n",
       "</style>\n",
       "<table border=\"1\" class=\"dataframe\">\n",
       "  <thead>\n",
       "    <tr style=\"text-align: right;\">\n",
       "      <th></th>\n",
       "      <th>Predicted 0</th>\n",
       "      <th>Predicted 1</th>\n",
       "    </tr>\n",
       "  </thead>\n",
       "  <tbody>\n",
       "    <tr>\n",
       "      <th>Actual 0</th>\n",
       "      <td>27751</td>\n",
       "      <td>20844</td>\n",
       "    </tr>\n",
       "    <tr>\n",
       "      <th>Actual 1</th>\n",
       "      <td>1030</td>\n",
       "      <td>7744</td>\n",
       "    </tr>\n",
       "  </tbody>\n",
       "</table>\n",
       "</div>"
      ],
      "text/plain": [
       "          Predicted 0  Predicted 1\n",
       "Actual 0        27751        20844\n",
       "Actual 1         1030         7744"
      ]
     },
     "metadata": {},
     "output_type": "display_data"
    },
    {
     "name": "stdout",
     "output_type": "stream",
     "text": [
      "Accuracy Score : 0.7268373433907667\n",
      "Imbalanced Classification Report\n",
      "                   pre       rec       spe        f1       geo       iba       sup\n",
      "\n",
      "        0.0       0.96      0.57      0.88      0.72      0.71      0.49     48595\n",
      "        1.0       0.27      0.88      0.57      0.41      0.71      0.52      8774\n",
      "\n",
      "avg / total       0.86      0.62      0.83      0.67      0.71      0.49     57369\n",
      "\n"
     ]
    }
   ],
   "source": [
    "# Displaying results\n",
    "print(\"SMOTEENN Model:\")\n",
    "print(\"Confusion Matrix\")\n",
    "display(cm_df)\n",
    "print(f\"Accuracy Score : {acc_score}\")\n",
    "print(\"Imbalanced Classification Report\")\n",
    "print(classification_report_imbalanced(y_test, y_pred))"
   ]
  },
  {
   "cell_type": "markdown",
   "id": "781f536a",
   "metadata": {},
   "source": [
    "## Ensemble Learners"
   ]
  },
  {
   "cell_type": "markdown",
   "id": "deb32384",
   "metadata": {},
   "source": [
    "### BalancedRandomForestClassifier"
   ]
  },
  {
   "cell_type": "code",
   "execution_count": 548,
   "id": "a4958ed7",
   "metadata": {},
   "outputs": [
    {
     "data": {
      "text/plain": [
       "BalancedRandomForestClassifier(random_state=1)"
      ]
     },
     "execution_count": 548,
     "metadata": {},
     "output_type": "execute_result"
    }
   ],
   "source": [
    "# Resample the training data with the BalancedRandomForestClassifier\n",
    "from imblearn.ensemble import BalancedRandomForestClassifier\n",
    "brf_model = BalancedRandomForestClassifier(n_estimators=100, random_state=1).fit(X_train_scaled,y_train.values.ravel())\n",
    "brf_model"
   ]
  },
  {
   "cell_type": "code",
   "execution_count": 549,
   "id": "6bf2f06d",
   "metadata": {},
   "outputs": [],
   "source": [
    "# Calculated the balanced accuracy score\n",
    "y_pred = brf_model.predict(X_test_scaled)\n",
    "acc_score = balanced_accuracy_score(y_test,y_pred)"
   ]
  },
  {
   "cell_type": "code",
   "execution_count": 550,
   "id": "7207e5e3",
   "metadata": {},
   "outputs": [
    {
     "data": {
      "text/plain": [
       "array([[33188, 15407],\n",
       "       [ 1956,  6818]], dtype=int64)"
      ]
     },
     "execution_count": 550,
     "metadata": {},
     "output_type": "execute_result"
    }
   ],
   "source": [
    "# Display the confusion matrix\n",
    "confusion_matrix(y_test, y_pred)"
   ]
  },
  {
   "cell_type": "code",
   "execution_count": 551,
   "id": "7cfc6960",
   "metadata": {},
   "outputs": [
    {
     "data": {
      "text/html": [
       "<div>\n",
       "<style scoped>\n",
       "    .dataframe tbody tr th:only-of-type {\n",
       "        vertical-align: middle;\n",
       "    }\n",
       "\n",
       "    .dataframe tbody tr th {\n",
       "        vertical-align: top;\n",
       "    }\n",
       "\n",
       "    .dataframe thead th {\n",
       "        text-align: right;\n",
       "    }\n",
       "</style>\n",
       "<table border=\"1\" class=\"dataframe\">\n",
       "  <thead>\n",
       "    <tr style=\"text-align: right;\">\n",
       "      <th></th>\n",
       "      <th>Predicted 0</th>\n",
       "      <th>Predicted 1</th>\n",
       "    </tr>\n",
       "  </thead>\n",
       "  <tbody>\n",
       "    <tr>\n",
       "      <th>Actual 0</th>\n",
       "      <td>33188</td>\n",
       "      <td>15407</td>\n",
       "    </tr>\n",
       "    <tr>\n",
       "      <th>Actual 1</th>\n",
       "      <td>1956</td>\n",
       "      <td>6818</td>\n",
       "    </tr>\n",
       "  </tbody>\n",
       "</table>\n",
       "</div>"
      ],
      "text/plain": [
       "          Predicted 0  Predicted 1\n",
       "Actual 0        33188        15407\n",
       "Actual 1         1956         6818"
      ]
     },
     "execution_count": 551,
     "metadata": {},
     "output_type": "execute_result"
    }
   ],
   "source": [
    "# Calculating the confusion matrix\n",
    "cm = confusion_matrix(y_test, y_pred)\n",
    "\n",
    "# Create a DataFrame from the confusion matrix.\n",
    "cm_df = pd.DataFrame(\n",
    "    cm, index=[\"Actual 0\", \"Actual 1\"], columns=[\"Predicted 0\", \"Predicted 1\"])\n",
    "\n",
    "cm_df"
   ]
  },
  {
   "cell_type": "code",
   "execution_count": 552,
   "id": "e4789f36",
   "metadata": {},
   "outputs": [
    {
     "name": "stdout",
     "output_type": "stream",
     "text": [
      "                   pre       rec       spe        f1       geo       iba       sup\n",
      "\n",
      "        0.0       0.94      0.68      0.78      0.79      0.73      0.53     48595\n",
      "        1.0       0.31      0.78      0.68      0.44      0.73      0.54      8774\n",
      "\n",
      "avg / total       0.85      0.70      0.76      0.74      0.73      0.53     57369\n",
      "\n"
     ]
    }
   ],
   "source": [
    "# Print the imbalanced classification report\n",
    "print(classification_report_imbalanced(y_test, y_pred))"
   ]
  },
  {
   "cell_type": "code",
   "execution_count": 553,
   "id": "a78edfb6",
   "metadata": {},
   "outputs": [
    {
     "name": "stdout",
     "output_type": "stream",
     "text": [
      "BalancedRandomForestClassifier Model:\n",
      "Confusion Matrix\n"
     ]
    },
    {
     "data": {
      "text/html": [
       "<div>\n",
       "<style scoped>\n",
       "    .dataframe tbody tr th:only-of-type {\n",
       "        vertical-align: middle;\n",
       "    }\n",
       "\n",
       "    .dataframe tbody tr th {\n",
       "        vertical-align: top;\n",
       "    }\n",
       "\n",
       "    .dataframe thead th {\n",
       "        text-align: right;\n",
       "    }\n",
       "</style>\n",
       "<table border=\"1\" class=\"dataframe\">\n",
       "  <thead>\n",
       "    <tr style=\"text-align: right;\">\n",
       "      <th></th>\n",
       "      <th>Predicted 0</th>\n",
       "      <th>Predicted 1</th>\n",
       "    </tr>\n",
       "  </thead>\n",
       "  <tbody>\n",
       "    <tr>\n",
       "      <th>Actual 0</th>\n",
       "      <td>33188</td>\n",
       "      <td>15407</td>\n",
       "    </tr>\n",
       "    <tr>\n",
       "      <th>Actual 1</th>\n",
       "      <td>1956</td>\n",
       "      <td>6818</td>\n",
       "    </tr>\n",
       "  </tbody>\n",
       "</table>\n",
       "</div>"
      ],
      "text/plain": [
       "          Predicted 0  Predicted 1\n",
       "Actual 0        33188        15407\n",
       "Actual 1         1956         6818"
      ]
     },
     "metadata": {},
     "output_type": "display_data"
    },
    {
     "name": "stdout",
     "output_type": "stream",
     "text": [
      "Accuracy Score : 0.7300097663421234\n",
      "Imbalanced Classification Report\n",
      "                   pre       rec       spe        f1       geo       iba       sup\n",
      "\n",
      "        0.0       0.94      0.68      0.78      0.79      0.73      0.53     48595\n",
      "        1.0       0.31      0.78      0.68      0.44      0.73      0.54      8774\n",
      "\n",
      "avg / total       0.85      0.70      0.76      0.74      0.73      0.53     57369\n",
      "\n"
     ]
    }
   ],
   "source": [
    "# Displaying results\n",
    "print(\"BalancedRandomForestClassifier Model:\")\n",
    "print(\"Confusion Matrix\")\n",
    "display(cm_df)\n",
    "print(f\"Accuracy Score : {acc_score}\")\n",
    "print(\"Imbalanced Classification Report\")\n",
    "print(classification_report_imbalanced(y_test, y_pred))"
   ]
  },
  {
   "cell_type": "code",
   "execution_count": 66,
   "id": "45a41585",
   "metadata": {},
   "outputs": [
    {
     "name": "stdout",
     "output_type": "stream",
     "text": [
      "BMI: (0.16947397298666836)\n",
      "Age: (0.13095806530427379)\n",
      "GenHlth: (0.09680729983208586)\n",
      "Income: (0.0874086220640658)\n",
      "PhysHlth: (0.07214125941211927)\n",
      "HighBP: (0.06892113484967274)\n",
      "Education: (0.060809370841636484)\n",
      "MentHlth: (0.05374915459479329)\n",
      "HighChol: (0.03611463234200675)\n",
      "Smoker: (0.029958394812398835)\n",
      "Fruits: (0.029564550941952608)\n",
      "Sex: (0.026486027699019782)\n",
      "PhysActivity: (0.025023547362055254)\n",
      "DiffWalk: (0.02365396178137393)\n",
      "Veggies: (0.023648438016202592)\n",
      "HeartDiseaseorAttack: (0.01726695412901121)\n",
      "NoDocbcCost: (0.012980479346195901)\n",
      "Stroke: (0.010619582072540441)\n",
      "HvyAlcoholConsump: (0.009954627831171146)\n",
      "AnyHealthcare: (0.007913268552755212)\n",
      "CholCheck: (0.006546655228000683)\n"
     ]
    }
   ],
   "source": [
    "# List the features sorted in descending order by feature importance\n",
    "importances = brf_model.feature_importances_\n",
    "importance_list = pd.DataFrame({\"Column\":X.columns,\"Value\":importances}).sort_values(by=['Value'],ascending = False)\n",
    "\n",
    "for index, row in importance_list.iterrows():\n",
    "    print(f'{row[\"Column\"]}: ({row[\"Value\"]})')"
   ]
  },
  {
   "cell_type": "markdown",
   "id": "1257ee8e",
   "metadata": {},
   "source": [
    "### EasyEnsembleClassifier"
   ]
  },
  {
   "cell_type": "code",
   "execution_count": 554,
   "id": "4c73b6aa",
   "metadata": {},
   "outputs": [
    {
     "data": {
      "text/plain": [
       "EasyEnsembleClassifier(n_estimators=100, random_state=1)"
      ]
     },
     "execution_count": 554,
     "metadata": {},
     "output_type": "execute_result"
    }
   ],
   "source": [
    "# Train the EasyEnsembleClassifier\n",
    "from imblearn.ensemble import EasyEnsembleClassifier\n",
    "ee_model = EasyEnsembleClassifier(n_estimators=100, random_state=1).fit(X_train_scaled,y_train.values.ravel())\n",
    "ee_model"
   ]
  },
  {
   "cell_type": "code",
   "execution_count": 555,
   "id": "08f31a9d",
   "metadata": {},
   "outputs": [
    {
     "data": {
      "text/plain": [
       "0.7407365420563092"
      ]
     },
     "execution_count": 555,
     "metadata": {},
     "output_type": "execute_result"
    }
   ],
   "source": [
    "# Calculated the balanced accuracy score\n",
    "y_pred = ee_model.predict(X_test_scaled)\n",
    "acc_score  = balanced_accuracy_score(y_test,y_pred)\n",
    "acc_score"
   ]
  },
  {
   "cell_type": "code",
   "execution_count": 556,
   "id": "e13e93fe",
   "metadata": {},
   "outputs": [
    {
     "data": {
      "text/plain": [
       "array([[34513, 14082],\n",
       "       [ 2007,  6767]], dtype=int64)"
      ]
     },
     "execution_count": 556,
     "metadata": {},
     "output_type": "execute_result"
    }
   ],
   "source": [
    "# Display the confusion matrix\n",
    "confusion_matrix(y_test, y_pred)"
   ]
  },
  {
   "cell_type": "code",
   "execution_count": 557,
   "id": "e7773c8e",
   "metadata": {},
   "outputs": [
    {
     "data": {
      "text/html": [
       "<div>\n",
       "<style scoped>\n",
       "    .dataframe tbody tr th:only-of-type {\n",
       "        vertical-align: middle;\n",
       "    }\n",
       "\n",
       "    .dataframe tbody tr th {\n",
       "        vertical-align: top;\n",
       "    }\n",
       "\n",
       "    .dataframe thead th {\n",
       "        text-align: right;\n",
       "    }\n",
       "</style>\n",
       "<table border=\"1\" class=\"dataframe\">\n",
       "  <thead>\n",
       "    <tr style=\"text-align: right;\">\n",
       "      <th></th>\n",
       "      <th>Predicted 0</th>\n",
       "      <th>Predicted 1</th>\n",
       "    </tr>\n",
       "  </thead>\n",
       "  <tbody>\n",
       "    <tr>\n",
       "      <th>Actual 0</th>\n",
       "      <td>34513</td>\n",
       "      <td>14082</td>\n",
       "    </tr>\n",
       "    <tr>\n",
       "      <th>Actual 1</th>\n",
       "      <td>2007</td>\n",
       "      <td>6767</td>\n",
       "    </tr>\n",
       "  </tbody>\n",
       "</table>\n",
       "</div>"
      ],
      "text/plain": [
       "          Predicted 0  Predicted 1\n",
       "Actual 0        34513        14082\n",
       "Actual 1         2007         6767"
      ]
     },
     "execution_count": 557,
     "metadata": {},
     "output_type": "execute_result"
    }
   ],
   "source": [
    "# Calculating the confusion matrix\n",
    "cm = confusion_matrix(y_test, y_pred)\n",
    "\n",
    "# Create a DataFrame from the confusion matrix.\n",
    "cm_df = pd.DataFrame(\n",
    "    cm, index=[\"Actual 0\", \"Actual 1\"], columns=[\"Predicted 0\", \"Predicted 1\"])\n",
    "\n",
    "cm_df"
   ]
  },
  {
   "cell_type": "code",
   "execution_count": 558,
   "id": "fd0f0158",
   "metadata": {},
   "outputs": [
    {
     "name": "stdout",
     "output_type": "stream",
     "text": [
      "                   pre       rec       spe        f1       geo       iba       sup\n",
      "\n",
      "        0.0       0.95      0.71      0.77      0.81      0.74      0.54     48595\n",
      "        1.0       0.32      0.77      0.71      0.46      0.74      0.55      8774\n",
      "\n",
      "avg / total       0.85      0.72      0.76      0.76      0.74      0.55     57369\n",
      "\n"
     ]
    }
   ],
   "source": [
    "# Print the imbalanced classification report\n",
    "print(classification_report_imbalanced(y_test, y_pred))"
   ]
  },
  {
   "cell_type": "code",
   "execution_count": 559,
   "id": "6af20c20",
   "metadata": {},
   "outputs": [
    {
     "name": "stdout",
     "output_type": "stream",
     "text": [
      "EasyEnsembleClassfiler Model:\n",
      "Confusion Matrix\n"
     ]
    },
    {
     "data": {
      "text/html": [
       "<div>\n",
       "<style scoped>\n",
       "    .dataframe tbody tr th:only-of-type {\n",
       "        vertical-align: middle;\n",
       "    }\n",
       "\n",
       "    .dataframe tbody tr th {\n",
       "        vertical-align: top;\n",
       "    }\n",
       "\n",
       "    .dataframe thead th {\n",
       "        text-align: right;\n",
       "    }\n",
       "</style>\n",
       "<table border=\"1\" class=\"dataframe\">\n",
       "  <thead>\n",
       "    <tr style=\"text-align: right;\">\n",
       "      <th></th>\n",
       "      <th>Predicted 0</th>\n",
       "      <th>Predicted 1</th>\n",
       "    </tr>\n",
       "  </thead>\n",
       "  <tbody>\n",
       "    <tr>\n",
       "      <th>Actual 0</th>\n",
       "      <td>34513</td>\n",
       "      <td>14082</td>\n",
       "    </tr>\n",
       "    <tr>\n",
       "      <th>Actual 1</th>\n",
       "      <td>2007</td>\n",
       "      <td>6767</td>\n",
       "    </tr>\n",
       "  </tbody>\n",
       "</table>\n",
       "</div>"
      ],
      "text/plain": [
       "          Predicted 0  Predicted 1\n",
       "Actual 0        34513        14082\n",
       "Actual 1         2007         6767"
      ]
     },
     "metadata": {},
     "output_type": "display_data"
    },
    {
     "name": "stdout",
     "output_type": "stream",
     "text": [
      "Accuracy Score : 0.7407365420563092\n",
      "Imbalanced Classification Report\n",
      "                   pre       rec       spe        f1       geo       iba       sup\n",
      "\n",
      "        0.0       0.95      0.71      0.77      0.81      0.74      0.54     48595\n",
      "        1.0       0.32      0.77      0.71      0.46      0.74      0.55      8774\n",
      "\n",
      "avg / total       0.85      0.72      0.76      0.76      0.74      0.55     57369\n",
      "\n"
     ]
    }
   ],
   "source": [
    "# Displaying results\n",
    "print(\"EasyEnsembleClassfiler Model:\")\n",
    "print(\"Confusion Matrix\")\n",
    "display(cm_df)\n",
    "print(f\"Accuracy Score : {acc_score}\")\n",
    "print(\"Imbalanced Classification Report\")\n",
    "print(classification_report_imbalanced(y_test, y_pred))"
   ]
  },
  {
   "cell_type": "markdown",
   "id": "7267421c",
   "metadata": {},
   "source": [
    "## Deep Learning Model"
   ]
  },
  {
   "cell_type": "code",
   "execution_count": 28,
   "id": "46670119",
   "metadata": {},
   "outputs": [
    {
     "data": {
      "text/plain": [
       "Diabetes_binary          2\n",
       "HighBP                   2\n",
       "HighChol                 2\n",
       "CholCheck                2\n",
       "BMI                     84\n",
       "Smoker                   2\n",
       "Stroke                   2\n",
       "HeartDiseaseorAttack     2\n",
       "PhysActivity             2\n",
       "Fruits                   2\n",
       "Veggies                  2\n",
       "HvyAlcoholConsump        2\n",
       "AnyHealthcare            2\n",
       "NoDocbcCost              2\n",
       "GenHlth                  5\n",
       "MentHlth                31\n",
       "PhysHlth                31\n",
       "DiffWalk                 2\n",
       "Sex                      2\n",
       "Age                     13\n",
       "Education                6\n",
       "Income                   8\n",
       "dtype: int64"
      ]
     },
     "execution_count": 28,
     "metadata": {},
     "output_type": "execute_result"
    }
   ],
   "source": [
    "# # Determine the number of unique values in each column.\n",
    "dlm_df = cleaned_df.copy()\n",
    "dlm_df.nunique()"
   ]
  },
  {
   "cell_type": "code",
   "execution_count": 29,
   "id": "08794e68",
   "metadata": {},
   "outputs": [
    {
     "data": {
      "text/plain": [
       "Diabetes_binary         float64\n",
       "HighBP                  float64\n",
       "HighChol                float64\n",
       "CholCheck               float64\n",
       "BMI                     float64\n",
       "Smoker                  float64\n",
       "Stroke                  float64\n",
       "HeartDiseaseorAttack    float64\n",
       "PhysActivity            float64\n",
       "Fruits                  float64\n",
       "Veggies                 float64\n",
       "HvyAlcoholConsump       float64\n",
       "AnyHealthcare           float64\n",
       "NoDocbcCost             float64\n",
       "GenHlth                 float64\n",
       "MentHlth                float64\n",
       "PhysHlth                float64\n",
       "DiffWalk                float64\n",
       "Sex                     float64\n",
       "Age                     float64\n",
       "Education               float64\n",
       "Income                  float64\n",
       "dtype: object"
      ]
     },
     "execution_count": 29,
     "metadata": {},
     "output_type": "execute_result"
    }
   ],
   "source": [
    "# Check data types\n",
    "dlm_df.dtypes"
   ]
  },
  {
   "cell_type": "code",
   "execution_count": 30,
   "id": "46b6a5d6",
   "metadata": {},
   "outputs": [
    {
     "name": "stdout",
     "output_type": "stream",
     "text": [
      "(229474, 22)\n"
     ]
    }
   ],
   "source": [
    "print(dlm_df.shape)"
   ]
  },
  {
   "cell_type": "code",
   "execution_count": 31,
   "id": "62f7b9be",
   "metadata": {},
   "outputs": [],
   "source": [
    "# Import our dependencies\n",
    "import tensorflow as tf"
   ]
  },
  {
   "cell_type": "code",
   "execution_count": 32,
   "id": "d59e3c3a",
   "metadata": {},
   "outputs": [
    {
     "name": "stdout",
     "output_type": "stream",
     "text": [
      "The number of output: 1\n",
      "The number of input: 21\n"
     ]
    }
   ],
   "source": [
    "# Create our targets\n",
    "dlm_y = dlm_df['Diabetes_binary'].values\n",
    "print(f'The number of output: {dlm_y.reshape(-1,1).shape[1]}')\n",
    "\n",
    "# Create our features\n",
    "dlm_X = dlm_df.copy().drop(columns = 'Diabetes_binary').values\n",
    "print(f'The number of input: {dlm_X.shape[1]}')"
   ]
  },
  {
   "cell_type": "code",
   "execution_count": 33,
   "id": "4e8a650e",
   "metadata": {},
   "outputs": [],
   "source": [
    "# Split the preprocessed data into a training and testing dataset\n",
    "dlm_X_train, dlm_X_test, dlm_y_train, dlm_y_test = train_test_split(dlm_X, dlm_y, random_state=1)"
   ]
  },
  {
   "cell_type": "code",
   "execution_count": 34,
   "id": "a605a52f",
   "metadata": {},
   "outputs": [],
   "source": [
    "# Create a StandardScaler instances\n",
    "scaler = StandardScaler()\n",
    "\n",
    "# Fit the StandardScaler\n",
    "dlm_X_scaler = scaler.fit(dlm_X_train)\n",
    "\n",
    "# Scale the data\n",
    "dlm_X_train_scaled = dlm_X_scaler.transform(dlm_X_train)\n",
    "dlm_X_test_scaled = dlm_X_scaler.transform(dlm_X_test)"
   ]
  },
  {
   "cell_type": "markdown",
   "id": "60931a31",
   "metadata": {},
   "source": [
    "### Compile, Train and Evaluate the Model"
   ]
  },
  {
   "cell_type": "code",
   "execution_count": 61,
   "id": "93927b76",
   "metadata": {},
   "outputs": [
    {
     "name": "stdout",
     "output_type": "stream",
     "text": [
      "Model: \"sequential_6\"\n",
      "_________________________________________________________________\n",
      " Layer (type)                Output Shape              Param #   \n",
      "=================================================================\n",
      " dense_20 (Dense)            (None, 12)                264       \n",
      "                                                                 \n",
      " dense_21 (Dense)            (None, 6)                 78        \n",
      "                                                                 \n",
      " dense_22 (Dense)            (None, 3)                 21        \n",
      "                                                                 \n",
      " dense_23 (Dense)            (None, 1)                 4         \n",
      "                                                                 \n",
      "=================================================================\n",
      "Total params: 367\n",
      "Trainable params: 367\n",
      "Non-trainable params: 0\n",
      "_________________________________________________________________\n"
     ]
    }
   ],
   "source": [
    "# Define the model - deep neural net, i.e., the number of input features and hidden nodes for each layer.\n",
    "number_input_features = len(dlm_X_train[0])\n",
    "hidden_nodes_layer1 = 12\n",
    "hidden_nodes_layer2 = 6\n",
    "hidden_nodes_layer3 = 3\n",
    "output_features = len(dlm_df[['Diabetes_binary']].columns)\n",
    "\n",
    "nn = tf.keras.models.Sequential()\n",
    "\n",
    "# First hidden layer\n",
    "nn.add(tf.keras.layers.Dense(units=hidden_nodes_layer1, input_dim=number_input_features, activation=\"relu\"))\n",
    "\n",
    "# Second hidden layer\n",
    "nn.add(tf.keras.layers.Dense(units=hidden_nodes_layer2, activation=\"relu\"))\n",
    "\n",
    "# Third hidden layer\n",
    "nn.add(tf.keras.layers.Dense(units=hidden_nodes_layer3, activation=\"relu\"))\n",
    "\n",
    "# Output layer\n",
    "nn.add(tf.keras.layers.Dense(units=output_features, activation=\"sigmoid\"))\n",
    "\n",
    "# Check the structure of the model\n",
    "nn.summary()"
   ]
  },
  {
   "cell_type": "code",
   "execution_count": 62,
   "id": "1659aea1",
   "metadata": {},
   "outputs": [],
   "source": [
    "# Compile the model\n",
    "nn.compile(loss=\"binary_crossentropy\", optimizer=\"adam\", metrics=[\"accuracy\"])"
   ]
  },
  {
   "cell_type": "code",
   "execution_count": 63,
   "id": "59765b61",
   "metadata": {},
   "outputs": [],
   "source": [
    "# Import checkpoint dependencies\n",
    "import os\n",
    "from tensorflow.keras.callbacks import ModelCheckpoint\n",
    "\n",
    "# Define the checkpoint path and filenames\n",
    "os.makedirs(\"checkpoints/\",exist_ok=True)\n",
    "checkpoint_path = \"checkpoints/weights.{epoch:03d}.hdf5\""
   ]
  },
  {
   "cell_type": "code",
   "execution_count": 64,
   "id": "cdcef462",
   "metadata": {},
   "outputs": [
    {
     "name": "stderr",
     "output_type": "stream",
     "text": [
      "WARNING:tensorflow:`period` argument is deprecated. Please use `save_freq` to specify the frequency in number of batches seen.\n"
     ]
    }
   ],
   "source": [
    "# Create a callback that saves the model's weights every 5 epochs\n",
    "cp_callback = ModelCheckpoint(\n",
    "    filepath=checkpoint_path,\n",
    "    verbose=1,\n",
    "    save_weights_only=True,\n",
    "    save_freq = 'epoch',\n",
    "    period=5\n",
    ")"
   ]
  },
  {
   "cell_type": "code",
   "execution_count": 65,
   "id": "07931d57",
   "metadata": {
    "scrolled": true
   },
   "outputs": [
    {
     "name": "stdout",
     "output_type": "stream",
     "text": [
      "Epoch 1/100\n",
      "5379/5379 [==============================] - 8s 1ms/step - loss: 0.4258 - accuracy: 0.8475\n",
      "Epoch 2/100\n",
      "5379/5379 [==============================] - 7s 1ms/step - loss: 0.3489 - accuracy: 0.8523\n",
      "Epoch 3/100\n",
      "5379/5379 [==============================] - 8s 1ms/step - loss: 0.3436 - accuracy: 0.8526\n",
      "Epoch 4/100\n",
      "5379/5379 [==============================] - 7s 1ms/step - loss: 0.3418 - accuracy: 0.8529\n",
      "Epoch 5/100\n",
      "5348/5379 [============================>.] - ETA: 0s - loss: 0.3411 - accuracy: 0.8532\n",
      "Epoch 5: saving model to checkpoints\\weights.005.hdf5\n",
      "5379/5379 [==============================] - 7s 1ms/step - loss: 0.3411 - accuracy: 0.8532\n",
      "Epoch 6/100\n",
      "5379/5379 [==============================] - 7s 1ms/step - loss: 0.3405 - accuracy: 0.8533\n",
      "Epoch 7/100\n",
      "5379/5379 [==============================] - 7s 1ms/step - loss: 0.3401 - accuracy: 0.8530\n",
      "Epoch 8/100\n",
      "5379/5379 [==============================] - 7s 1ms/step - loss: 0.3399 - accuracy: 0.8530\n",
      "Epoch 9/100\n",
      "5379/5379 [==============================] - 7s 1ms/step - loss: 0.3396 - accuracy: 0.8534\n",
      "Epoch 10/100\n",
      "5359/5379 [============================>.] - ETA: 0s - loss: 0.3395 - accuracy: 0.8531\n",
      "Epoch 10: saving model to checkpoints\\weights.010.hdf5\n",
      "5379/5379 [==============================] - 7s 1ms/step - loss: 0.3394 - accuracy: 0.8531\n",
      "Epoch 11/100\n",
      "5379/5379 [==============================] - 7s 1ms/step - loss: 0.3393 - accuracy: 0.8532\n",
      "Epoch 12/100\n",
      "5379/5379 [==============================] - 7s 1ms/step - loss: 0.3391 - accuracy: 0.8535\n",
      "Epoch 13/100\n",
      "5379/5379 [==============================] - 7s 1ms/step - loss: 0.3390 - accuracy: 0.8533\n",
      "Epoch 14/100\n",
      "5379/5379 [==============================] - 7s 1ms/step - loss: 0.3390 - accuracy: 0.8531\n",
      "Epoch 15/100\n",
      "5371/5379 [============================>.] - ETA: 0s - loss: 0.3390 - accuracy: 0.8532\n",
      "Epoch 15: saving model to checkpoints\\weights.015.hdf5\n",
      "5379/5379 [==============================] - 7s 1ms/step - loss: 0.3390 - accuracy: 0.8533\n",
      "Epoch 16/100\n",
      "5379/5379 [==============================] - 7s 1ms/step - loss: 0.3389 - accuracy: 0.8535\n",
      "Epoch 17/100\n",
      "5379/5379 [==============================] - 7s 1ms/step - loss: 0.3389 - accuracy: 0.8532\n",
      "Epoch 18/100\n",
      "5379/5379 [==============================] - 7s 1ms/step - loss: 0.3386 - accuracy: 0.8533\n",
      "Epoch 19/100\n",
      "5379/5379 [==============================] - 7s 1ms/step - loss: 0.3386 - accuracy: 0.8535\n",
      "Epoch 20/100\n",
      "5346/5379 [============================>.] - ETA: 0s - loss: 0.3388 - accuracy: 0.8532\n",
      "Epoch 20: saving model to checkpoints\\weights.020.hdf5\n",
      "5379/5379 [==============================] - 7s 1ms/step - loss: 0.3387 - accuracy: 0.8533\n",
      "Epoch 21/100\n",
      "5379/5379 [==============================] - 7s 1ms/step - loss: 0.3385 - accuracy: 0.8537\n",
      "Epoch 22/100\n",
      "5379/5379 [==============================] - 7s 1ms/step - loss: 0.3385 - accuracy: 0.8536\n",
      "Epoch 23/100\n",
      "5379/5379 [==============================] - 7s 1ms/step - loss: 0.3385 - accuracy: 0.8533\n",
      "Epoch 24/100\n",
      "5379/5379 [==============================] - 7s 1ms/step - loss: 0.3385 - accuracy: 0.8533\n",
      "Epoch 25/100\n",
      "5360/5379 [============================>.] - ETA: 0s - loss: 0.3383 - accuracy: 0.8535\n",
      "Epoch 25: saving model to checkpoints\\weights.025.hdf5\n",
      "5379/5379 [==============================] - 7s 1ms/step - loss: 0.3384 - accuracy: 0.8535\n",
      "Epoch 26/100\n",
      "5379/5379 [==============================] - 9s 2ms/step - loss: 0.3384 - accuracy: 0.8537\n",
      "Epoch 27/100\n",
      "5379/5379 [==============================] - 8s 2ms/step - loss: 0.3384 - accuracy: 0.8536\n",
      "Epoch 28/100\n",
      "5379/5379 [==============================] - 8s 1ms/step - loss: 0.3383 - accuracy: 0.8535\n",
      "Epoch 29/100\n",
      "5379/5379 [==============================] - 8s 1ms/step - loss: 0.3383 - accuracy: 0.8536\n",
      "Epoch 30/100\n",
      "5370/5379 [============================>.] - ETA: 0s - loss: 0.3383 - accuracy: 0.8534\n",
      "Epoch 30: saving model to checkpoints\\weights.030.hdf5\n",
      "5379/5379 [==============================] - 7s 1ms/step - loss: 0.3384 - accuracy: 0.8533\n",
      "Epoch 31/100\n",
      "5379/5379 [==============================] - 7s 1ms/step - loss: 0.3383 - accuracy: 0.8536\n",
      "Epoch 32/100\n",
      "5379/5379 [==============================] - 7s 1ms/step - loss: 0.3383 - accuracy: 0.8533\n",
      "Epoch 33/100\n",
      "5379/5379 [==============================] - 6s 1ms/step - loss: 0.3382 - accuracy: 0.8532\n",
      "Epoch 34/100\n",
      "5379/5379 [==============================] - 7s 1ms/step - loss: 0.3383 - accuracy: 0.8534\n",
      "Epoch 35/100\n",
      "5374/5379 [============================>.] - ETA: 0s - loss: 0.3382 - accuracy: 0.8533\n",
      "Epoch 35: saving model to checkpoints\\weights.035.hdf5\n",
      "5379/5379 [==============================] - 7s 1ms/step - loss: 0.3383 - accuracy: 0.8533\n",
      "Epoch 36/100\n",
      "5379/5379 [==============================] - 7s 1ms/step - loss: 0.3381 - accuracy: 0.8537\n",
      "Epoch 37/100\n",
      "5379/5379 [==============================] - 7s 1ms/step - loss: 0.3381 - accuracy: 0.8535\n",
      "Epoch 38/100\n",
      "5379/5379 [==============================] - 7s 1ms/step - loss: 0.3380 - accuracy: 0.8533\n",
      "Epoch 39/100\n",
      "5379/5379 [==============================] - 7s 1ms/step - loss: 0.3381 - accuracy: 0.8533\n",
      "Epoch 40/100\n",
      "5351/5379 [============================>.] - ETA: 0s - loss: 0.3381 - accuracy: 0.8535\n",
      "Epoch 40: saving model to checkpoints\\weights.040.hdf5\n",
      "5379/5379 [==============================] - 7s 1ms/step - loss: 0.3380 - accuracy: 0.8536\n",
      "Epoch 41/100\n",
      "5379/5379 [==============================] - 7s 1ms/step - loss: 0.3381 - accuracy: 0.8533\n",
      "Epoch 42/100\n",
      "5379/5379 [==============================] - 8s 1ms/step - loss: 0.3380 - accuracy: 0.8535\n",
      "Epoch 43/100\n",
      "5379/5379 [==============================] - 7s 1ms/step - loss: 0.3380 - accuracy: 0.8534\n",
      "Epoch 44/100\n",
      "5379/5379 [==============================] - 7s 1ms/step - loss: 0.3380 - accuracy: 0.8534\n",
      "Epoch 45/100\n",
      "5371/5379 [============================>.] - ETA: 0s - loss: 0.3380 - accuracy: 0.8536\n",
      "Epoch 45: saving model to checkpoints\\weights.045.hdf5\n",
      "5379/5379 [==============================] - 8s 1ms/step - loss: 0.3380 - accuracy: 0.8536\n",
      "Epoch 46/100\n",
      "5379/5379 [==============================] - 7s 1ms/step - loss: 0.3379 - accuracy: 0.8537\n",
      "Epoch 47/100\n",
      "5379/5379 [==============================] - 8s 1ms/step - loss: 0.3379 - accuracy: 0.8536\n",
      "Epoch 48/100\n",
      "5379/5379 [==============================] - 7s 1ms/step - loss: 0.3380 - accuracy: 0.8532\n",
      "Epoch 49/100\n",
      "5379/5379 [==============================] - 7s 1ms/step - loss: 0.3380 - accuracy: 0.8533\n",
      "Epoch 50/100\n",
      "5352/5379 [============================>.] - ETA: 0s - loss: 0.3377 - accuracy: 0.8536\n",
      "Epoch 50: saving model to checkpoints\\weights.050.hdf5\n",
      "5379/5379 [==============================] - 7s 1ms/step - loss: 0.3379 - accuracy: 0.8535\n",
      "Epoch 51/100\n",
      "5379/5379 [==============================] - 7s 1ms/step - loss: 0.3380 - accuracy: 0.8536\n",
      "Epoch 52/100\n",
      "5379/5379 [==============================] - 6s 1ms/step - loss: 0.3379 - accuracy: 0.8536\n",
      "Epoch 53/100\n",
      "5379/5379 [==============================] - 7s 1ms/step - loss: 0.3378 - accuracy: 0.8538\n",
      "Epoch 54/100\n",
      "5379/5379 [==============================] - 7s 1ms/step - loss: 0.3379 - accuracy: 0.8533\n",
      "Epoch 55/100\n",
      "5362/5379 [============================>.] - ETA: 0s - loss: 0.3378 - accuracy: 0.8536\n",
      "Epoch 55: saving model to checkpoints\\weights.055.hdf5\n",
      "5379/5379 [==============================] - 7s 1ms/step - loss: 0.3378 - accuracy: 0.8536\n",
      "Epoch 56/100\n",
      "5379/5379 [==============================] - 7s 1ms/step - loss: 0.3378 - accuracy: 0.8535\n",
      "Epoch 57/100\n",
      "5379/5379 [==============================] - 7s 1ms/step - loss: 0.3378 - accuracy: 0.8539\n",
      "Epoch 58/100\n",
      "5379/5379 [==============================] - 7s 1ms/step - loss: 0.3378 - accuracy: 0.8540\n",
      "Epoch 59/100\n",
      "5379/5379 [==============================] - 8s 1ms/step - loss: 0.3379 - accuracy: 0.8529\n",
      "Epoch 60/100\n",
      "5348/5379 [============================>.] - ETA: 0s - loss: 0.3377 - accuracy: 0.8537\n",
      "Epoch 60: saving model to checkpoints\\weights.060.hdf5\n",
      "5379/5379 [==============================] - 8s 1ms/step - loss: 0.3378 - accuracy: 0.8536\n",
      "Epoch 61/100\n",
      "5379/5379 [==============================] - 8s 1ms/step - loss: 0.3378 - accuracy: 0.8533\n",
      "Epoch 62/100\n",
      "5379/5379 [==============================] - 8s 1ms/step - loss: 0.3377 - accuracy: 0.8536\n",
      "Epoch 63/100\n",
      "5379/5379 [==============================] - 7s 1ms/step - loss: 0.3377 - accuracy: 0.8535\n",
      "Epoch 64/100\n",
      "5379/5379 [==============================] - 6s 1ms/step - loss: 0.3376 - accuracy: 0.8535\n",
      "Epoch 65/100\n",
      "5342/5379 [============================>.] - ETA: 0s - loss: 0.3378 - accuracy: 0.8538\n",
      "Epoch 65: saving model to checkpoints\\weights.065.hdf5\n",
      "5379/5379 [==============================] - 7s 1ms/step - loss: 0.3377 - accuracy: 0.8538\n",
      "Epoch 66/100\n",
      "5379/5379 [==============================] - 7s 1ms/step - loss: 0.3376 - accuracy: 0.8537\n",
      "Epoch 67/100\n",
      "5379/5379 [==============================] - 7s 1ms/step - loss: 0.3376 - accuracy: 0.8532\n",
      "Epoch 68/100\n",
      "5379/5379 [==============================] - 7s 1ms/step - loss: 0.3377 - accuracy: 0.8533\n",
      "Epoch 69/100\n",
      "5379/5379 [==============================] - 7s 1ms/step - loss: 0.3376 - accuracy: 0.8541\n",
      "Epoch 70/100\n",
      "5361/5379 [============================>.] - ETA: 0s - loss: 0.3377 - accuracy: 0.8534\n",
      "Epoch 70: saving model to checkpoints\\weights.070.hdf5\n",
      "5379/5379 [==============================] - 7s 1ms/step - loss: 0.3376 - accuracy: 0.8534\n",
      "Epoch 71/100\n",
      "5379/5379 [==============================] - 8s 1ms/step - loss: 0.3376 - accuracy: 0.8538\n",
      "Epoch 72/100\n",
      "5379/5379 [==============================] - 9s 2ms/step - loss: 0.3376 - accuracy: 0.8539\n",
      "Epoch 73/100\n",
      "5379/5379 [==============================] - 8s 1ms/step - loss: 0.3376 - accuracy: 0.8536\n",
      "Epoch 74/100\n",
      "5379/5379 [==============================] - 8s 1ms/step - loss: 0.3376 - accuracy: 0.8537\n",
      "Epoch 75/100\n",
      "5376/5379 [============================>.] - ETA: 0s - loss: 0.3376 - accuracy: 0.8535\n",
      "Epoch 75: saving model to checkpoints\\weights.075.hdf5\n",
      "5379/5379 [==============================] - 7s 1ms/step - loss: 0.3375 - accuracy: 0.8535\n",
      "Epoch 76/100\n",
      "5379/5379 [==============================] - 7s 1ms/step - loss: 0.3376 - accuracy: 0.8536\n",
      "Epoch 77/100\n",
      "5379/5379 [==============================] - 7s 1ms/step - loss: 0.3376 - accuracy: 0.8539\n",
      "Epoch 78/100\n",
      "5379/5379 [==============================] - 7s 1ms/step - loss: 0.3374 - accuracy: 0.8539\n",
      "Epoch 79/100\n",
      "5379/5379 [==============================] - 7s 1ms/step - loss: 0.3375 - accuracy: 0.8536\n",
      "Epoch 80/100\n",
      "5355/5379 [============================>.] - ETA: 0s - loss: 0.3377 - accuracy: 0.8538\n",
      "Epoch 80: saving model to checkpoints\\weights.080.hdf5\n",
      "5379/5379 [==============================] - 7s 1ms/step - loss: 0.3375 - accuracy: 0.8538\n",
      "Epoch 81/100\n",
      "5379/5379 [==============================] - 7s 1ms/step - loss: 0.3374 - accuracy: 0.8537\n",
      "Epoch 82/100\n",
      "5379/5379 [==============================] - 8s 1ms/step - loss: 0.3375 - accuracy: 0.8537\n",
      "Epoch 83/100\n",
      "5379/5379 [==============================] - 8s 1ms/step - loss: 0.3375 - accuracy: 0.8539\n",
      "Epoch 84/100\n",
      "5379/5379 [==============================] - 7s 1ms/step - loss: 0.3375 - accuracy: 0.8535\n",
      "Epoch 85/100\n",
      "5367/5379 [============================>.] - ETA: 0s - loss: 0.3374 - accuracy: 0.8537\n",
      "Epoch 85: saving model to checkpoints\\weights.085.hdf5\n",
      "5379/5379 [==============================] - 8s 1ms/step - loss: 0.3374 - accuracy: 0.8537\n",
      "Epoch 86/100\n",
      "5379/5379 [==============================] - 8s 1ms/step - loss: 0.3375 - accuracy: 0.8538\n",
      "Epoch 87/100\n",
      "5379/5379 [==============================] - 7s 1ms/step - loss: 0.3374 - accuracy: 0.8542\n",
      "Epoch 88/100\n",
      "5379/5379 [==============================] - 7s 1ms/step - loss: 0.3374 - accuracy: 0.8538\n",
      "Epoch 89/100\n",
      "5379/5379 [==============================] - 8s 1ms/step - loss: 0.3374 - accuracy: 0.8537\n",
      "Epoch 90/100\n",
      "5342/5379 [============================>.] - ETA: 0s - loss: 0.3374 - accuracy: 0.8539\n",
      "Epoch 90: saving model to checkpoints\\weights.090.hdf5\n",
      "5379/5379 [==============================] - 8s 1ms/step - loss: 0.3375 - accuracy: 0.8539\n",
      "Epoch 91/100\n",
      "5379/5379 [==============================] - 7s 1ms/step - loss: 0.3374 - accuracy: 0.8540\n",
      "Epoch 92/100\n",
      "5379/5379 [==============================] - 7s 1ms/step - loss: 0.3373 - accuracy: 0.8536\n",
      "Epoch 93/100\n",
      "5379/5379 [==============================] - 6s 1ms/step - loss: 0.3374 - accuracy: 0.8538\n",
      "Epoch 94/100\n",
      "5379/5379 [==============================] - 6s 1ms/step - loss: 0.3373 - accuracy: 0.8538\n",
      "Epoch 95/100\n",
      "5346/5379 [============================>.] - ETA: 0s - loss: 0.3374 - accuracy: 0.8538\n",
      "Epoch 95: saving model to checkpoints\\weights.095.hdf5\n",
      "5379/5379 [==============================] - 7s 1ms/step - loss: 0.3374 - accuracy: 0.8538\n",
      "Epoch 96/100\n",
      "5379/5379 [==============================] - 7s 1ms/step - loss: 0.3373 - accuracy: 0.8538\n",
      "Epoch 97/100\n",
      "5379/5379 [==============================] - 7s 1ms/step - loss: 0.3373 - accuracy: 0.8540\n",
      "Epoch 98/100\n",
      "5379/5379 [==============================] - 8s 2ms/step - loss: 0.3373 - accuracy: 0.8536\n",
      "Epoch 99/100\n",
      "5379/5379 [==============================] - 13s 2ms/step - loss: 0.3373 - accuracy: 0.8538\n",
      "Epoch 100/100\n",
      "5352/5379 [============================>.] - ETA: 0s - loss: 0.3373 - accuracy: 0.8540\n",
      "Epoch 100: saving model to checkpoints\\weights.100.hdf5\n",
      "5379/5379 [==============================] - 8s 2ms/step - loss: 0.3373 - accuracy: 0.8540\n"
     ]
    }
   ],
   "source": [
    "# Train the model\n",
    "fit_model = nn.fit(dlm_X_train_scaled,dlm_y_train,epochs=100,callbacks=[cp_callback])"
   ]
  },
  {
   "cell_type": "code",
   "execution_count": 66,
   "id": "8de1226e",
   "metadata": {},
   "outputs": [
    {
     "name": "stdout",
     "output_type": "stream",
     "text": [
      "1793/1793 - 2s - loss: 0.3389 - accuracy: 0.8535 - 2s/epoch - 970us/step\n"
     ]
    }
   ],
   "source": [
    "# Evaluate the model using the test data\n",
    "model_loss, model_accuracy = nn.evaluate(dlm_X_test_scaled,dlm_y_test,verbose=2)"
   ]
  },
  {
   "cell_type": "code",
   "execution_count": 67,
   "id": "8eaa8f59",
   "metadata": {},
   "outputs": [
    {
     "name": "stdout",
     "output_type": "stream",
     "text": [
      " The performance of the deep machine learning model:\n",
      "Loss: 0.338912695646286, Accuracy: 0.8534748554229736\n"
     ]
    }
   ],
   "source": [
    "print(f\" The performance of the deep machine learning model:\")\n",
    "print(f\"Loss: {model_loss}, Accuracy: {model_accuracy}\")"
   ]
  },
  {
   "cell_type": "code",
   "execution_count": 68,
   "id": "f139ae4a",
   "metadata": {},
   "outputs": [],
   "source": [
    "# # Export our model to HDF5 file\n",
    "nn.save(\"DiabetesAnalysis.h5\")"
   ]
  },
  {
   "cell_type": "markdown",
   "id": "27fb8266",
   "metadata": {},
   "source": [
    "## Keras-tuner"
   ]
  },
  {
   "cell_type": "code",
   "execution_count": 69,
   "id": "060351f6",
   "metadata": {},
   "outputs": [],
   "source": [
    "# Create a method that creates a new Sequential model with hyperparameter options\n",
    "def create_model(hp):\n",
    "    nn_model = tf.keras.models.Sequential()\n",
    "\n",
    "    # Allow kerastuner to decide which activation function to use in hidden layers\n",
    "    activation = hp.Choice('activation',['relu','tanh','selu'])\n",
    "    \n",
    "    # Allow kerastuner to decide number of neurons in first layer\n",
    "    number_of_nerons = hp.Int('first_units', min_value=1, max_value=100, step=2)\n",
    "    nn_model.add(tf.keras.layers.Dense(units=number_of_nerons, activation=activation, input_dim=number_input_features))\n",
    "\n",
    "    # Allow kerastuner to decide number of hidden layers and neurons in hidden layers\n",
    "    for i in range(hp.Int('num_layers', 1, 8)):\n",
    "        number_of_nerons = hp.Int('units_' + str(i), min_value=1, max_value=100, step=2)\n",
    "        nn_model.add(tf.keras.layers.Dense(units=number_of_nerons, activation=activation))\n",
    "    \n",
    "    nn_model.add(tf.keras.layers.Dense(units=output_features, activation=\"sigmoid\"))\n",
    "\n",
    "    # Compile the model\n",
    "    nn_model.compile(loss=\"binary_crossentropy\", optimizer='adam', metrics=[\"accuracy\"])\n",
    "    \n",
    "    return nn_model"
   ]
  },
  {
   "cell_type": "code",
   "execution_count": 70,
   "id": "6517bee5",
   "metadata": {},
   "outputs": [],
   "source": [
    "# Import the kerastuner library\n",
    "import keras_tuner as kt\n",
    "\n",
    "tuner = kt.Hyperband(\n",
    "    create_model,\n",
    "    objective=\"val_accuracy\",\n",
    "    max_epochs=20,\n",
    "    hyperband_iterations=2,\n",
    "    overwrite=True)"
   ]
  },
  {
   "cell_type": "code",
   "execution_count": 71,
   "id": "57c03279",
   "metadata": {},
   "outputs": [
    {
     "name": "stdout",
     "output_type": "stream",
     "text": [
      "Trial 60 Complete [00h 04m 02s]\n",
      "val_accuracy: 0.8543463945388794\n",
      "\n",
      "Best val_accuracy So Far: 0.8545904755592346\n",
      "Total elapsed time: 01h 28m 50s\n"
     ]
    }
   ],
   "source": [
    "# Run the kerastuner search for best hyperparameters\n",
    "tuner.search(dlm_X_train_scaled,dlm_y_train,epochs=20,validation_data=(dlm_X_test_scaled,dlm_y_test))"
   ]
  },
  {
   "cell_type": "code",
   "execution_count": 72,
   "id": "63bba35d",
   "metadata": {},
   "outputs": [
    {
     "name": "stdout",
     "output_type": "stream",
     "text": [
      "The best model hyperparameters:\n"
     ]
    },
    {
     "data": {
      "text/plain": [
       "{'activation': 'selu',\n",
       " 'first_units': 99,\n",
       " 'num_layers': 6,\n",
       " 'units_0': 51,\n",
       " 'units_1': 7,\n",
       " 'units_2': 71,\n",
       " 'units_3': 91,\n",
       " 'units_4': 49,\n",
       " 'units_5': 69,\n",
       " 'units_6': 11,\n",
       " 'units_7': 3,\n",
       " 'tuner/epochs': 20,\n",
       " 'tuner/initial_epoch': 7,\n",
       " 'tuner/bracket': 1,\n",
       " 'tuner/round': 1,\n",
       " 'tuner/trial_id': '0023'}"
      ]
     },
     "execution_count": 72,
     "metadata": {},
     "output_type": "execute_result"
    }
   ],
   "source": [
    "# Get best model hyperparameters\n",
    "best_hyper = tuner.get_best_hyperparameters(1)[0]\n",
    "print(f\"The best model hyperparameters:\")\n",
    "best_hyper.values"
   ]
  },
  {
   "cell_type": "code",
   "execution_count": 73,
   "id": "b7201603",
   "metadata": {},
   "outputs": [
    {
     "name": "stdout",
     "output_type": "stream",
     "text": [
      "1793/1793 - 3s - loss: 0.3393 - accuracy: 0.8546 - 3s/epoch - 1ms/step\n"
     ]
    }
   ],
   "source": [
    "# Determine the best model\n",
    "best_model = tuner.get_best_models(1)[0]\n",
    "\n",
    "# Evaluate best model against full test data\n",
    "model_loss, model_accuracy = best_model.evaluate(dlm_X_test_scaled,dlm_y_test,verbose=2)"
   ]
  },
  {
   "cell_type": "code",
   "execution_count": 74,
   "id": "fe7f2faa",
   "metadata": {},
   "outputs": [
    {
     "name": "stdout",
     "output_type": "stream",
     "text": [
      " The performance of the best model:\n",
      "Loss: 0.3392680883407593, Accuracy: 0.8545904755592346\n"
     ]
    }
   ],
   "source": [
    "# Display result\n",
    "print(f\" The performance of the best model:\")\n",
    "print(f\"Loss: {model_loss}, Accuracy: {model_accuracy}\")"
   ]
  },
  {
   "cell_type": "code",
   "execution_count": 75,
   "id": "1cc6d3ca",
   "metadata": {},
   "outputs": [],
   "source": [
    "# # Export our model to HDF5 file\n",
    "best_model.save(\"DiabetesAnalysis_BestModel.h5\")"
   ]
  },
  {
   "cell_type": "code",
   "execution_count": 76,
   "id": "05b2ce7f",
   "metadata": {},
   "outputs": [
    {
     "name": "stdout",
     "output_type": "stream",
     "text": [
      "1793/1793 [==============================] - 2s 1ms/step\n"
     ]
    }
   ],
   "source": [
    "# Test the model with dlm_X_test_scaled data\n",
    "y_pred_test = (best_model.predict(dlm_X_test_scaled) > 0.5).astype(\"int32\")"
   ]
  },
  {
   "cell_type": "code",
   "execution_count": 77,
   "id": "b21af405",
   "metadata": {},
   "outputs": [
    {
     "data": {
      "text/plain": [
       "Prediction\n",
       "0             55640\n",
       "1              1729\n",
       "dtype: int64"
      ]
     },
     "execution_count": 77,
     "metadata": {},
     "output_type": "execute_result"
    }
   ],
   "source": [
    "y_new = pd.DataFrame(y_pred_test,columns=[\"Prediction\"])\n",
    "y_new.value_counts()"
   ]
  },
  {
   "cell_type": "code",
   "execution_count": 78,
   "id": "7111eae1",
   "metadata": {},
   "outputs": [],
   "source": [
    "# # Save the best model to a HTML5 file\n",
    "best_model.save(\"diabetes_model.h5\")"
   ]
  },
  {
   "cell_type": "code",
   "execution_count": 79,
   "id": "86ef3990",
   "metadata": {},
   "outputs": [],
   "source": [
    "import pickle\n",
    "\n",
    "# Save the model scaler\n",
    "with open('dlm_X_scaler.pkl', 'wb') as file:\n",
    "    pickle.dump(dlm_X_scaler, file)"
   ]
  },
  {
   "cell_type": "code",
   "execution_count": null,
   "id": "6e30464a",
   "metadata": {},
   "outputs": [],
   "source": []
  }
 ],
 "metadata": {
  "kernelspec": {
   "display_name": "mlenv",
   "language": "python",
   "name": "mlenv"
  },
  "language_info": {
   "codemirror_mode": {
    "name": "ipython",
    "version": 3
   },
   "file_extension": ".py",
   "mimetype": "text/x-python",
   "name": "python",
   "nbconvert_exporter": "python",
   "pygments_lexer": "ipython3",
   "version": "3.9.16"
  }
 },
 "nbformat": 4,
 "nbformat_minor": 5
}
